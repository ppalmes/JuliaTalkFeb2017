{
 "cells": [
  {
   "cell_type": "markdown",
   "metadata": {},
   "source": [
    "## Add available processors"
   ]
  },
  {
   "cell_type": "code",
   "execution_count": 1,
   "metadata": {
    "collapsed": false
   },
   "outputs": [
    {
     "data": {
      "text/plain": [
       "1"
      ]
     },
     "execution_count": 1,
     "metadata": {},
     "output_type": "execute_result"
    }
   ],
   "source": [
    "nprocs()"
   ]
  },
  {
   "cell_type": "code",
   "execution_count": 2,
   "metadata": {
    "collapsed": false
   },
   "outputs": [
    {
     "data": {
      "text/plain": [
       "4-element Array{Int64,1}:\n",
       " 2\n",
       " 3\n",
       " 4\n",
       " 5"
      ]
     },
     "execution_count": 2,
     "metadata": {},
     "output_type": "execute_result"
    }
   ],
   "source": [
    "nprocs() == 1 && addprocs()"
   ]
  },
  {
   "cell_type": "code",
   "execution_count": 3,
   "metadata": {
    "collapsed": false
   },
   "outputs": [
    {
     "data": {
      "text/plain": [
       "4-element Array{Int64,1}:\n",
       " 2\n",
       " 3\n",
       " 4\n",
       " 5"
      ]
     },
     "execution_count": 3,
     "metadata": {},
     "output_type": "execute_result"
    }
   ],
   "source": [
    "workers()"
   ]
  },
  {
   "cell_type": "markdown",
   "metadata": {},
   "source": [
    "## Remote Calls and References"
   ]
  },
  {
   "cell_type": "code",
   "execution_count": 4,
   "metadata": {
    "collapsed": false
   },
   "outputs": [
    {
     "data": {
      "text/plain": [
       "Future(2,1,6,Nullable{Any}())"
      ]
     },
     "execution_count": 4,
     "metadata": {},
     "output_type": "execute_result"
    }
   ],
   "source": [
    "ref = @spawn sin(π/5)"
   ]
  },
  {
   "cell_type": "code",
   "execution_count": 5,
   "metadata": {
    "collapsed": false
   },
   "outputs": [
    {
     "data": {
      "text/plain": [
       "0.5877852522924731"
      ]
     },
     "execution_count": 5,
     "metadata": {},
     "output_type": "execute_result"
    }
   ],
   "source": [
    "fetch(ref)"
   ]
  },
  {
   "cell_type": "code",
   "execution_count": 6,
   "metadata": {
    "collapsed": true
   },
   "outputs": [],
   "source": [
    "n=10\n",
    "refs = Array(Future,n)\n",
    "for i = 1:n\n",
    "    refs[i] = @spawn sin(i)\n",
    "end"
   ]
  },
  {
   "cell_type": "code",
   "execution_count": 7,
   "metadata": {
    "collapsed": false
   },
   "outputs": [
    {
     "data": {
      "text/plain": [
       "10-element Array{Future,1}:\n",
       " Future(3,1,8,#NULL) \n",
       " Future(4,1,9,#NULL) \n",
       " Future(5,1,10,#NULL)\n",
       " Future(2,1,11,#NULL)\n",
       " Future(3,1,12,#NULL)\n",
       " Future(4,1,13,#NULL)\n",
       " Future(5,1,14,#NULL)\n",
       " Future(2,1,15,#NULL)\n",
       " Future(3,1,16,#NULL)\n",
       " Future(4,1,17,#NULL)"
      ]
     },
     "execution_count": 7,
     "metadata": {},
     "output_type": "execute_result"
    }
   ],
   "source": [
    "refs"
   ]
  },
  {
   "cell_type": "code",
   "execution_count": 8,
   "metadata": {
    "collapsed": false
   },
   "outputs": [
    {
     "data": {
      "text/plain": [
       "1.4111883712180104"
      ]
     },
     "execution_count": 8,
     "metadata": {},
     "output_type": "execute_result"
    }
   ],
   "source": [
    "reduce(+,map(fetch,refs))"
   ]
  },
  {
   "cell_type": "code",
   "execution_count": 9,
   "metadata": {
    "collapsed": false
   },
   "outputs": [
    {
     "data": {
      "text/plain": [
       "10-element Array{Float64,1}:\n",
       "  0.841471\n",
       "  0.909297\n",
       "  0.14112 \n",
       " -0.756802\n",
       " -0.958924\n",
       " -0.279415\n",
       "  0.656987\n",
       "  0.989358\n",
       "  0.412118\n",
       " -0.544021"
      ]
     },
     "execution_count": 9,
     "metadata": {},
     "output_type": "execute_result"
    }
   ],
   "source": [
    "res=@parallel (vcat) for i=1:n\n",
    "    sin(i)\n",
    "end"
   ]
  },
  {
   "cell_type": "code",
   "execution_count": 10,
   "metadata": {
    "collapsed": false
   },
   "outputs": [
    {
     "data": {
      "text/plain": [
       "1.4111883712180104"
      ]
     },
     "execution_count": 10,
     "metadata": {},
     "output_type": "execute_result"
    }
   ],
   "source": [
    "reduce(+,res)"
   ]
  },
  {
   "cell_type": "code",
   "execution_count": 11,
   "metadata": {
    "collapsed": true
   },
   "outputs": [
    {
     "name": "stdout",
     "output_type": "stream",
     "text": [
      "\tFrom worker 4:\t(7,0.6569865987187891)\n",
      "\tFrom worker 4:\t(8,0.9893582466233818)\n",
      "\tFrom worker 5:\t(9,0.4121184852417566)\n",
      "\tFrom worker 5:\t(10,-0.5440211108893698)\n",
      "\tFrom worker 2:\t(1,0.8414709848078965)\n",
      "\tFrom worker 2:\t(2,0.9092974268256817)\n",
      "\tFrom worker 2:\t(3,0.1411200080598672)\n",
      "\tFrom worker 3:\t(4,-0.7568024953079282)\n",
      "\tFrom worker 3:\t(5,-0.9589242746631385)\n",
      "\tFrom worker 3:\t(6,-0.27941549819892586)\n"
     ]
    },
    {
     "data": {
      "text/plain": [
       "10×2 Array{Float64,2}:\n",
       "  1.0   0.841471\n",
       "  2.0   0.909297\n",
       "  3.0   0.14112 \n",
       "  4.0  -0.756802\n",
       "  5.0  -0.958924\n",
       "  6.0  -0.279415\n",
       "  7.0   0.656987\n",
       "  8.0   0.989358\n",
       "  9.0   0.412118\n",
       " 10.0  -0.544021"
      ]
     },
     "execution_count": 11,
     "metadata": {},
     "output_type": "execute_result"
    }
   ],
   "source": [
    "res=@parallel (vcat) for i = 1:10\n",
    "    println((i,sin(i)))\n",
    "    [i sin(i)]\n",
    "end"
   ]
  },
  {
   "cell_type": "code",
   "execution_count": 12,
   "metadata": {
    "collapsed": true
   },
   "outputs": [
    {
     "data": {
      "text/plain": [
       "1.4111883712180104"
      ]
     },
     "execution_count": 12,
     "metadata": {},
     "output_type": "execute_result"
    }
   ],
   "source": [
    "sum(res[:,2])"
   ]
  },
  {
   "cell_type": "markdown",
   "metadata": {},
   "source": [
    "## Monte-Carlo Simulation to estimate $\\pi$"
   ]
  },
  {
   "cell_type": "code",
   "execution_count": 13,
   "metadata": {
    "collapsed": true
   },
   "outputs": [],
   "source": [
    "#==========================#\n",
    "# monte-carlo simulation\n",
    "# π r^2 / 4 r^2 = s/n \n",
    "#==========================#\n",
    "\n",
    "\n",
    "@everywhere function isInside() \n",
    "    x = rand()\n",
    "    y = rand()\n",
    "    x^2 + y^2 < 1 ? 1 : 0\n",
    "end;\n",
    "\n",
    "@everywhere function ppi(n)\n",
    "    s=@parallel (+) for i = 1:n\n",
    "        isInside()\n",
    "    end\n",
    "    4s/n\n",
    "end;\n"
   ]
  },
  {
   "cell_type": "code",
   "execution_count": 14,
   "metadata": {
    "collapsed": true
   },
   "outputs": [
    {
     "name": "stdout",
     "output_type": "stream",
     "text": [
      "  7.235441 seconds (137.84 k allocations: 5.872 MB)\n"
     ]
    }
   ],
   "source": [
    "@time ppi(10^9)"
   ]
  },
  {
   "cell_type": "markdown",
   "metadata": {},
   "source": [
    "## Distributed Arrays"
   ]
  },
  {
   "cell_type": "code",
   "execution_count": 15,
   "metadata": {
    "collapsed": false
   },
   "outputs": [
    {
     "data": {
      "text/plain": [
       "20×20 Array{Float64,2}:\n",
       " 8.0  2.0   1.0  1.0   2.0   8.0   8.0  …   3.0   6.0   0.0  1.0   7.0  6.0\n",
       " 9.0  8.0   3.0  9.0   1.0   7.0   4.0      9.0   8.0   8.0  6.0   5.0  4.0\n",
       " 1.0  8.0   5.0  9.0   9.0   2.0   0.0      9.0   3.0   5.0  2.0  10.0  1.0\n",
       " 1.0  9.0  10.0  8.0   4.0   7.0   7.0      7.0  10.0   4.0  8.0   3.0  5.0\n",
       " 9.0  5.0   6.0  6.0   4.0   4.0   2.0      1.0   3.0   0.0  5.0   1.0  9.0\n",
       " 1.0  3.0   9.0  4.0   2.0   3.0   7.0  …   0.0   7.0   7.0  7.0   9.0  5.0\n",
       " 4.0  3.0   9.0  2.0   2.0   5.0   9.0      9.0   0.0   3.0  7.0   6.0  4.0\n",
       " 4.0  2.0   3.0  9.0   0.0   9.0   8.0      3.0   7.0  10.0  4.0   9.0  8.0\n",
       " 6.0  9.0   3.0  5.0   4.0   6.0   3.0     10.0   5.0   6.0  2.0   5.0  7.0\n",
       " 8.0  8.0   5.0  1.0   2.0  10.0   2.0      3.0   9.0   5.0  6.0   2.0  3.0\n",
       " 7.0  1.0  10.0  8.0   9.0   0.0   2.0  …   0.0   8.0   0.0  7.0   8.0  8.0\n",
       " 8.0  6.0   1.0  7.0   0.0   8.0   7.0     10.0   5.0   5.0  6.0   9.0  6.0\n",
       " 2.0  2.0  10.0  3.0   9.0   9.0   9.0      8.0   5.0   1.0  2.0  10.0  3.0\n",
       " 3.0  3.0   3.0  4.0   4.0   5.0   5.0     10.0   5.0   8.0  0.0   8.0  1.0\n",
       " 1.0  6.0   5.0  4.0   3.0   1.0   5.0      0.0   5.0   1.0  7.0   5.0  9.0\n",
       " 1.0  8.0   6.0  0.0   2.0   9.0   4.0  …   2.0   5.0   7.0  8.0   5.0  4.0\n",
       " 0.0  3.0   7.0  7.0  10.0   2.0   9.0      5.0   5.0   7.0  7.0   7.0  5.0\n",
       " 6.0  2.0   8.0  4.0   1.0   4.0  10.0      3.0   8.0   1.0  7.0   6.0  5.0\n",
       " 2.0  9.0   2.0  2.0   7.0   7.0   8.0      9.0   0.0   4.0  9.0   7.0  6.0\n",
       " 2.0  9.0   2.0  1.0   7.0   8.0   6.0      8.0   6.0   1.0  8.0   6.0  9.0"
      ]
     },
     "execution_count": 15,
     "metadata": {},
     "output_type": "execute_result"
    }
   ],
   "source": [
    "using DistributedArrays\n",
    "\n",
    "a = round(10*rand(20,20))"
   ]
  },
  {
   "cell_type": "code",
   "execution_count": 16,
   "metadata": {
    "collapsed": false
   },
   "outputs": [
    {
     "data": {
      "text/plain": [
       "20×20 Array{Int64,2}:\n",
       " 1  1  1  1  1  1  1  1  1  1  1  1  1  1  1  1  1  1  1  1\n",
       " 1  1  1  1  1  1  1  1  1  1  1  1  1  1  1  1  1  1  1  1\n",
       " 1  1  1  1  1  1  1  1  1  1  1  1  1  1  1  1  1  1  1  1\n",
       " 1  1  1  1  1  1  1  1  1  1  1  1  1  1  1  1  1  1  1  1\n",
       " 1  1  1  1  1  1  1  1  1  1  1  1  1  1  1  1  1  1  1  1\n",
       " 1  1  1  1  1  1  1  1  1  1  1  1  1  1  1  1  1  1  1  1\n",
       " 1  1  1  1  1  1  1  1  1  1  1  1  1  1  1  1  1  1  1  1\n",
       " 1  1  1  1  1  1  1  1  1  1  1  1  1  1  1  1  1  1  1  1\n",
       " 1  1  1  1  1  1  1  1  1  1  1  1  1  1  1  1  1  1  1  1\n",
       " 1  1  1  1  1  1  1  1  1  1  1  1  1  1  1  1  1  1  1  1\n",
       " 1  1  1  1  1  1  1  1  1  1  1  1  1  1  1  1  1  1  1  1\n",
       " 1  1  1  1  1  1  1  1  1  1  1  1  1  1  1  1  1  1  1  1\n",
       " 1  1  1  1  1  1  1  1  1  1  1  1  1  1  1  1  1  1  1  1\n",
       " 1  1  1  1  1  1  1  1  1  1  1  1  1  1  1  1  1  1  1  1\n",
       " 1  1  1  1  1  1  1  1  1  1  1  1  1  1  1  1  1  1  1  1\n",
       " 1  1  1  1  1  1  1  1  1  1  1  1  1  1  1  1  1  1  1  1\n",
       " 1  1  1  1  1  1  1  1  1  1  1  1  1  1  1  1  1  1  1  1\n",
       " 1  1  1  1  1  1  1  1  1  1  1  1  1  1  1  1  1  1  1  1\n",
       " 1  1  1  1  1  1  1  1  1  1  1  1  1  1  1  1  1  1  1  1\n",
       " 1  1  1  1  1  1  1  1  1  1  1  1  1  1  1  1  1  1  1  1"
      ]
     },
     "execution_count": 16,
     "metadata": {},
     "output_type": "execute_result"
    }
   ],
   "source": [
    "map(x->myid(),a)"
   ]
  },
  {
   "cell_type": "code",
   "execution_count": 17,
   "metadata": {
    "collapsed": false
   },
   "outputs": [
    {
     "data": {
      "text/plain": [
       "20×20 DistributedArrays.DArray{Float64,2,Array{Float64,2}}:\n",
       " 8.0  2.0   1.0  1.0   2.0   8.0   8.0  …   3.0   6.0   0.0  1.0   7.0  6.0\n",
       " 9.0  8.0   3.0  9.0   1.0   7.0   4.0      9.0   8.0   8.0  6.0   5.0  4.0\n",
       " 1.0  8.0   5.0  9.0   9.0   2.0   0.0      9.0   3.0   5.0  2.0  10.0  1.0\n",
       " 1.0  9.0  10.0  8.0   4.0   7.0   7.0      7.0  10.0   4.0  8.0   3.0  5.0\n",
       " 9.0  5.0   6.0  6.0   4.0   4.0   2.0      1.0   3.0   0.0  5.0   1.0  9.0\n",
       " 1.0  3.0   9.0  4.0   2.0   3.0   7.0  …   0.0   7.0   7.0  7.0   9.0  5.0\n",
       " 4.0  3.0   9.0  2.0   2.0   5.0   9.0      9.0   0.0   3.0  7.0   6.0  4.0\n",
       " 4.0  2.0   3.0  9.0   0.0   9.0   8.0      3.0   7.0  10.0  4.0   9.0  8.0\n",
       " 6.0  9.0   3.0  5.0   4.0   6.0   3.0     10.0   5.0   6.0  2.0   5.0  7.0\n",
       " 8.0  8.0   5.0  1.0   2.0  10.0   2.0      3.0   9.0   5.0  6.0   2.0  3.0\n",
       " 7.0  1.0  10.0  8.0   9.0   0.0   2.0  …   0.0   8.0   0.0  7.0   8.0  8.0\n",
       " 8.0  6.0   1.0  7.0   0.0   8.0   7.0     10.0   5.0   5.0  6.0   9.0  6.0\n",
       " 2.0  2.0  10.0  3.0   9.0   9.0   9.0      8.0   5.0   1.0  2.0  10.0  3.0\n",
       " 3.0  3.0   3.0  4.0   4.0   5.0   5.0     10.0   5.0   8.0  0.0   8.0  1.0\n",
       " 1.0  6.0   5.0  4.0   3.0   1.0   5.0      0.0   5.0   1.0  7.0   5.0  9.0\n",
       " 1.0  8.0   6.0  0.0   2.0   9.0   4.0  …   2.0   5.0   7.0  8.0   5.0  4.0\n",
       " 0.0  3.0   7.0  7.0  10.0   2.0   9.0      5.0   5.0   7.0  7.0   7.0  5.0\n",
       " 6.0  2.0   8.0  4.0   1.0   4.0  10.0      3.0   8.0   1.0  7.0   6.0  5.0\n",
       " 2.0  9.0   2.0  2.0   7.0   7.0   8.0      9.0   0.0   4.0  9.0   7.0  6.0\n",
       " 2.0  9.0   2.0  1.0   7.0   8.0   6.0      8.0   6.0   1.0  8.0   6.0  9.0"
      ]
     },
     "execution_count": 17,
     "metadata": {},
     "output_type": "execute_result"
    }
   ],
   "source": [
    "da = distribute(a)"
   ]
  },
  {
   "cell_type": "code",
   "execution_count": 18,
   "metadata": {
    "collapsed": false
   },
   "outputs": [
    {
     "data": {
      "text/plain": [
       "20×20 DistributedArrays.DArray{Int64,2,Array{Int64,2}}:\n",
       " 2  2  2  2  2  2  2  2  2  2  4  4  4  4  4  4  4  4  4  4\n",
       " 2  2  2  2  2  2  2  2  2  2  4  4  4  4  4  4  4  4  4  4\n",
       " 2  2  2  2  2  2  2  2  2  2  4  4  4  4  4  4  4  4  4  4\n",
       " 2  2  2  2  2  2  2  2  2  2  4  4  4  4  4  4  4  4  4  4\n",
       " 2  2  2  2  2  2  2  2  2  2  4  4  4  4  4  4  4  4  4  4\n",
       " 2  2  2  2  2  2  2  2  2  2  4  4  4  4  4  4  4  4  4  4\n",
       " 2  2  2  2  2  2  2  2  2  2  4  4  4  4  4  4  4  4  4  4\n",
       " 2  2  2  2  2  2  2  2  2  2  4  4  4  4  4  4  4  4  4  4\n",
       " 2  2  2  2  2  2  2  2  2  2  4  4  4  4  4  4  4  4  4  4\n",
       " 2  2  2  2  2  2  2  2  2  2  4  4  4  4  4  4  4  4  4  4\n",
       " 3  3  3  3  3  3  3  3  3  3  5  5  5  5  5  5  5  5  5  5\n",
       " 3  3  3  3  3  3  3  3  3  3  5  5  5  5  5  5  5  5  5  5\n",
       " 3  3  3  3  3  3  3  3  3  3  5  5  5  5  5  5  5  5  5  5\n",
       " 3  3  3  3  3  3  3  3  3  3  5  5  5  5  5  5  5  5  5  5\n",
       " 3  3  3  3  3  3  3  3  3  3  5  5  5  5  5  5  5  5  5  5\n",
       " 3  3  3  3  3  3  3  3  3  3  5  5  5  5  5  5  5  5  5  5\n",
       " 3  3  3  3  3  3  3  3  3  3  5  5  5  5  5  5  5  5  5  5\n",
       " 3  3  3  3  3  3  3  3  3  3  5  5  5  5  5  5  5  5  5  5\n",
       " 3  3  3  3  3  3  3  3  3  3  5  5  5  5  5  5  5  5  5  5\n",
       " 3  3  3  3  3  3  3  3  3  3  5  5  5  5  5  5  5  5  5  5"
      ]
     },
     "execution_count": 18,
     "metadata": {},
     "output_type": "execute_result"
    }
   ],
   "source": [
    "map(x->myid(),da)"
   ]
  },
  {
   "cell_type": "code",
   "execution_count": 19,
   "metadata": {
    "collapsed": false
   },
   "outputs": [
    {
     "data": {
      "text/plain": [
       "2×2 Array{Int64,2}:\n",
       " 2  4\n",
       " 3  5"
      ]
     },
     "execution_count": 19,
     "metadata": {},
     "output_type": "execute_result"
    }
   ],
   "source": [
    "da.pids"
   ]
  },
  {
   "cell_type": "code",
   "execution_count": 20,
   "metadata": {
    "collapsed": false
   },
   "outputs": [
    {
     "data": {
      "text/plain": [
       "2×2 Array{Future,2}:\n",
       " Future(2,1,3384,#NULL)  Future(4,1,3386,#NULL)\n",
       " Future(3,1,3385,#NULL)  Future(5,1,3387,#NULL)"
      ]
     },
     "execution_count": 20,
     "metadata": {},
     "output_type": "execute_result"
    }
   ],
   "source": [
    "[@spawnat p sum(localpart(da)) for p in da.pids]"
   ]
  },
  {
   "cell_type": "code",
   "execution_count": 21,
   "metadata": {
    "collapsed": true
   },
   "outputs": [
    {
     "data": {
      "text/plain": [
       "2×2 Array{Float64,2}:\n",
       " 504.0  525.0\n",
       " 513.0  516.0"
      ]
     },
     "execution_count": 21,
     "metadata": {},
     "output_type": "execute_result"
    }
   ],
   "source": [
    "map(fetch,[@spawnat p sum(localpart(da)) for p in da.pids])"
   ]
  },
  {
   "cell_type": "code",
   "execution_count": 22,
   "metadata": {
    "collapsed": false
   },
   "outputs": [
    {
     "data": {
      "text/plain": [
       "2058.0"
      ]
     },
     "execution_count": 22,
     "metadata": {},
     "output_type": "execute_result"
    }
   ],
   "source": [
    "reduce(+,map(fetch,[@spawnat p sum(localpart(da)) for p in da.pids]))"
   ]
  },
  {
   "cell_type": "code",
   "execution_count": 2,
   "metadata": {
    "collapsed": false
   },
   "outputs": [
    {
     "data": {
      "text/html": [
       "sum(a) at <a href=\"https://github.com/JuliaLang/julia/tree/6445c82d0060dbe82b88436f0f4371a4ee64d918/base/reduce.jl#L235\" target=\"_blank\">reduce.jl:235</a>"
      ],
      "text/plain": [
       "sum(a) at reduce.jl:235"
      ]
     },
     "execution_count": 2,
     "metadata": {},
     "output_type": "execute_result"
    }
   ],
   "source": [
    "@which sum(10)"
   ]
  },
  {
   "cell_type": "markdown",
   "metadata": {},
   "source": [
    "## Cross-validation in parallel"
   ]
  },
  {
   "cell_type": "code",
   "execution_count": 24,
   "metadata": {
    "collapsed": false
   },
   "outputs": [],
   "source": [
    "using RDatasets\n",
    "@everywhere using RDatasets\n",
    "using DecisionTree\n",
    "@everywhere using DecisionTree\n",
    "\n",
    "@everywhere function irisAcc() \n",
    "    iris = dataset(\"datasets\", \"iris\")\n",
    "    features = convert(Array, iris[:, 1:4]);\n",
    "    labels = convert(Array, iris[:, 5]);\n",
    "    model = build_forest(labels, features, 2, 10, 0.5, 6);\n",
    "    accuracy = nfoldCV_forest(labels, features, 2, 10, 2, 0.5);\n",
    "    mean(accuracy)\n",
    "end\n"
   ]
  },
  {
   "cell_type": "code",
   "execution_count": 25,
   "metadata": {
    "collapsed": true
   },
   "outputs": [
    {
     "name": "stdout",
     "output_type": "stream",
     "text": [
      "\n",
      "Fold 1\n",
      "Classes:  "
     ]
    },
    {
     "data": {
      "text/plain": [
       "3×3 Array{Int64,2}:\n",
       " 21   0   0\n",
       "  1  18   1\n",
       "  0   7  27"
      ]
     },
     "metadata": {},
     "output_type": "display_data"
    },
    {
     "name": "stdout",
     "output_type": "stream",
     "text": [
      "Any[\"setosa\",\"versicolor\",\"virginica\"]\n",
      "Matrix:   "
     ]
    },
    {
     "data": {
      "text/plain": [
       "3×3 Array{Int64,2}:\n",
       " 29   0   0\n",
       "  3  26   1\n",
       "  0   1  15"
      ]
     },
     "metadata": {},
     "output_type": "display_data"
    },
    {
     "name": "stdout",
     "output_type": "stream",
     "text": [
      "\n",
      "Accuracy: 0.88\n",
      "Kappa:    0.8181083265966048\n",
      "\n",
      "Fold 2\n",
      "Classes:  Any[\"setosa\",\"versicolor\",\"virginica\"]\n",
      "Matrix:   \n",
      "Accuracy: 0.9333333333333333\n",
      "Kappa:    0.8967226659322501\n",
      "\n",
      "Mean Accuracy: 0.9066666666666667\n"
     ]
    },
    {
     "data": {
      "text/plain": [
       "3×3 Array{Int64,2}:\n",
       " 23   0   0\n",
       "  1  27   4\n",
       "  0   2  18"
      ]
     },
     "metadata": {},
     "output_type": "display_data"
    },
    {
     "data": {
      "text/plain": [
       "3×3 Array{Int64,2}:\n",
       " 27   0   0\n",
       "  0  18   0\n",
       "  0   4  26"
      ]
     },
     "metadata": {},
     "output_type": "display_data"
    },
    {
     "name": "stdout",
     "output_type": "stream",
     "text": [
      "\n",
      "Fold 1\n",
      "Classes:  Any[\"setosa\",\"versicolor\",\"virginica\"]\n",
      "Matrix:   \n",
      "Accuracy: 0.9066666666666666\n",
      "Kappa:    0.8582995951417002\n",
      "\n",
      "Fold 2\n",
      "Classes:  Any[\"setosa\",\"versicolor\",\"virginica\"]\n",
      "Matrix:   \n",
      "Accuracy: 0.9466666666666667\n",
      "Kappa:    0.9193548387096774\n",
      "\n",
      "Mean Accuracy: 0.9266666666666666\n"
     ]
    },
    {
     "data": {
      "text/plain": [
       "3×3 Array{Int64,2}:\n",
       " 21   0   0\n",
       "  0  28   1\n",
       "  0   0  25"
      ]
     },
     "metadata": {},
     "output_type": "display_data"
    },
    {
     "data": {
      "text/plain": [
       "3×3 Array{Int64,2}:\n",
       " 29   0   0\n",
       "  3  16   2\n",
       "  0   0  25"
      ]
     },
     "metadata": {},
     "output_type": "display_data"
    },
    {
     "name": "stdout",
     "output_type": "stream",
     "text": [
      "\n",
      "Fold 1\n",
      "Classes:  Any[\"setosa\",\"versicolor\",\"virginica\"]\n",
      "Matrix:   \n",
      "Accuracy: 0.9866666666666667\n",
      "Kappa:    0.9798495432563138\n",
      "\n",
      "Fold 2\n",
      "Classes:  Any[\"setosa\",\"versicolor\",\"virginica\"]\n",
      "Matrix:   \n",
      "Accuracy: 0.9333333333333333\n",
      "Kappa:    0.8982637004883343\n",
      "\n",
      "Mean Accuracy: 0.96\n"
     ]
    },
    {
     "data": {
      "text/plain": [
       "3×3 Array{Int64,2}:\n",
       " 28   0   0\n",
       "  2  21   1\n",
       "  0   1  22"
      ]
     },
     "metadata": {},
     "output_type": "display_data"
    },
    {
     "data": {
      "text/plain": [
       "3×3 Array{Int64,2}:\n",
       " 22   0   0\n",
       "  0  25   1\n",
       "  0   2  25"
      ]
     },
     "metadata": {},
     "output_type": "display_data"
    },
    {
     "data": {
      "text/plain": [
       "3×3 Array{Int64,2}:\n",
       " 25   0   0\n",
       "  0  21   2\n",
       "  0   1  26"
      ]
     },
     "metadata": {},
     "output_type": "display_data"
    },
    {
     "name": "stdout",
     "output_type": "stream",
     "text": [
      "\n",
      "Fold 1\n",
      "Classes:  Any[\"setosa\",\"versicolor\",\"virginica\"]\n",
      "Matrix:   \n",
      "Accuracy: 0.9466666666666667\n",
      "Kappa:    0.9195278969957081\n",
      "\n",
      "Fold 2\n",
      "Classes:  Any[\"setosa\",\"versicolor\",\"virginica\"]\n",
      "Matrix:   \n",
      "Accuracy: 0.96\n",
      "Kappa:    0.9397912764249398\n",
      "\n",
      "Mean Accuracy: 0.9533333333333334\n",
      "\n",
      "Fold 1\n",
      "Classes:  Any[\"setosa\",\"versicolor\",\"virginica\"]\n",
      "Matrix:   "
     ]
    },
    {
     "data": {
      "text/plain": [
       "3×3 Array{Int64,2}:\n",
       " 25   0   0\n",
       "  0  26   1\n",
       "  0   3  20"
      ]
     },
     "metadata": {},
     "output_type": "display_data"
    },
    {
     "data": {
      "text/plain": [
       "3×3 Array{Int64,2}:\n",
       " 21   0   0\n",
       "  0  27   3\n",
       "  0   3  21"
      ]
     },
     "metadata": {},
     "output_type": "display_data"
    },
    {
     "data": {
      "text/plain": [
       "3×3 Array{Int64,2}:\n",
       " 29   0   0\n",
       "  0  17   3\n",
       "  0   6  20"
      ]
     },
     "metadata": {},
     "output_type": "display_data"
    },
    {
     "name": "stdout",
     "output_type": "stream",
     "text": [
      "\n",
      "Accuracy: 0.96\n",
      "Kappa:    0.9398073836276083\n",
      "\n",
      "Fold 2\n",
      "Classes:  Any[\"setosa\",\"versicolor\",\"virginica\"]\n",
      "Matrix:   \n",
      "Accuracy: 0.9466666666666667\n",
      "Kappa:    0.9196572040707016\n",
      "\n",
      "Mean Accuracy: 0.9533333333333334\n",
      "\n",
      "Fold 1\n",
      "Classes:  Any[\"setosa\",\"versicolor\",\"virginica\"]\n",
      "Matrix:   \n",
      "Accuracy: 0.92\n",
      "Kappa:    0.8786407766990292\n",
      "\n",
      "Fold 2\n",
      "Classes:  Any[\"setosa\",\"versicolor\",\"virginica\"]\n",
      "Matrix:   \n",
      "Accuracy: 0.88\n",
      "Kappa:    0.8188405797101449\n",
      "\n",
      "Mean Accuracy: 0.9\n"
     ]
    },
    {
     "data": {
      "text/plain": [
       "3×3 Array{Int64,2}:\n",
       " 22   0   0\n",
       "  1  27   0\n",
       "  0   1  24"
      ]
     },
     "metadata": {},
     "output_type": "display_data"
    },
    {
     "data": {
      "text/plain": [
       "3×3 Array{Int64,2}:\n",
       " 28   0   0\n",
       "  0  21   1\n",
       "  0   7  18"
      ]
     },
     "metadata": {},
     "output_type": "display_data"
    },
    {
     "data": {
      "text/plain": [
       "3×3 Array{Int64,2}:\n",
       " 23   0   0\n",
       "  5  18   2\n",
       "  0   3  24"
      ]
     },
     "metadata": {},
     "output_type": "display_data"
    },
    {
     "name": "stdout",
     "output_type": "stream",
     "text": [
      "\n",
      "Fold 1\n",
      "Classes:  Any[\"setosa\",\"versicolor\",\"virginica\"]\n",
      "Matrix:   \n",
      "Accuracy: 0.9733333333333334\n",
      "Kappa:    0.9598393574297189\n",
      "\n",
      "Fold 2\n",
      "Classes:  Any[\"setosa\",\"versicolor\",\"virginica\"]\n",
      "Matrix:   \n",
      "Accuracy: 0.8933333333333333\n",
      "Kappa:    0.84\n",
      "\n",
      "Mean Accuracy: 0.9333333333333333\n",
      "\n",
      "Fold 1\n",
      "Classes:  Any[\"setosa\",\"versicolor\",\"virginica\"]\n",
      "Matrix:   "
     ]
    },
    {
     "data": {
      "text/plain": [
       "3×3 Array{Int64,2}:\n",
       " 27   0   0\n",
       "  2  22   1\n",
       "  0   0  23"
      ]
     },
     "metadata": {},
     "output_type": "display_data"
    },
    {
     "data": {
      "text/plain": [
       "3×3 Array{Int64,2}:\n",
       " 22   0   0\n",
       "  0  25   1\n",
       "  0   4  23"
      ]
     },
     "metadata": {},
     "output_type": "display_data"
    },
    {
     "data": {
      "text/plain": [
       "3×3 Array{Int64,2}:\n",
       " 23   5   0\n",
       "  1  22   1\n",
       "  0   4  19"
      ]
     },
     "metadata": {},
     "output_type": "display_data"
    },
    {
     "name": "stdout",
     "output_type": "stream",
     "text": [
      "\n",
      "Accuracy: 0.8666666666666667\n",
      "Kappa:    0.8002131060202451\n",
      "\n",
      "Fold 2\n",
      "Classes:  Any[\"setosa\",\"versicolor\",\"virginica\"]\n",
      "Matrix:   \n",
      "Accuracy: 0.96\n",
      "Kappa:    0.9398395721925134\n",
      "\n",
      "Mean Accuracy: 0.9133333333333333\n",
      "\n",
      "Fold 1\n",
      "Classes:  Any[\"setosa\",\"versicolor\",\"virginica\"]\n",
      "Matrix:   \n",
      "Accuracy: 0.9333333333333333\n",
      "Kappa:    0.8997058036908264\n",
      "\n",
      "Fold 2\n",
      "Classes:  Any[\"setosa\",\"versicolor\",\"virginica\"]\n",
      "Matrix:   "
     ]
    },
    {
     "data": {
      "text/plain": [
       "3×3 Array{Int64,2}:\n",
       " 30   0   0\n",
       "  0  24   0\n",
       "  0   4  17"
      ]
     },
     "metadata": {},
     "output_type": "display_data"
    },
    {
     "data": {
      "text/plain": [
       "3×3 Array{Int64,2}:\n",
       " 20   0   0\n",
       "  4  21   1\n",
       "  0   3  26"
      ]
     },
     "metadata": {},
     "output_type": "display_data"
    },
    {
     "name": "stdout",
     "output_type": "stream",
     "text": [
      "\n",
      "Accuracy: 0.8533333333333334\n",
      "Kappa:    0.779941317684716\n",
      "\n",
      "Mean Accuracy: 0.8933333333333333\n",
      "\n",
      "Fold 1\n",
      "Classes:  Any[\"setosa\",\"versicolor\",\"virginica\"]\n",
      "Matrix:   \n",
      "Accuracy: 0.9466666666666667\n",
      "Kappa:    0.9188311688311688\n",
      "\n",
      "Fold 2\n",
      "Classes:  Any[\"setosa\",\"versicolor\",\"virginica\"]\n",
      "Matrix:   \n",
      "Accuracy: 0.8933333333333333\n",
      "Kappa:    0.8394863563402889\n",
      "\n",
      "Mean Accuracy: 0.9199999999999999\n"
     ]
    },
    {
     "data": {
      "text/plain": [
       "3×3 Array{Int64,2}:\n",
       " 25   0   0\n",
       "  5  22   1\n",
       "  0   3  19"
      ]
     },
     "metadata": {},
     "output_type": "display_data"
    },
    {
     "data": {
      "text/plain": [
       "3×3 Array{Int64,2}:\n",
       " 25   0   0\n",
       "  1  20   1\n",
       "  0   0  28"
      ]
     },
     "metadata": {},
     "output_type": "display_data"
    },
    {
     "name": "stdout",
     "output_type": "stream",
     "text": [
      "\n",
      "Fold 1\n",
      "Classes:  Any[\"setosa\",\"versicolor\",\"virginica\"]\n",
      "Matrix:   \n",
      "Accuracy: 0.88\n",
      "Kappa:    0.8192771084337351\n",
      "\n",
      "Fold 2\n",
      "Classes:  Any[\"setosa\",\"versicolor\",\"virginica\"]\n",
      "Matrix:   \n",
      "Accuracy: 0.9733333333333334\n",
      "Kappa:    0.9597099113618051\n",
      "\n",
      "Mean Accuracy: 0.9266666666666667\n",
      "\n",
      "Fold 1"
     ]
    },
    {
     "data": {
      "text/plain": [
       "3×3 Array{Int64,2}:\n",
       " 28   0   0\n",
       "  5  18   0\n",
       "  0   1  23"
      ]
     },
     "metadata": {},
     "output_type": "display_data"
    },
    {
     "name": "stdout",
     "output_type": "stream",
     "text": [
      "\n",
      "Classes:  Any[\"setosa\",\"versicolor\",\"virginica\"]\n",
      "Matrix:   \n",
      "Accuracy: 0.92\n",
      "Kappa:    0.878771551724138\n"
     ]
    },
    {
     "data": {
      "text/plain": [
       "3×3 Array{Int64,2}:\n",
       " 22   0   0\n",
       "  0  27   0\n",
       "  0   8  18"
      ]
     },
     "metadata": {},
     "output_type": "display_data"
    },
    {
     "data": {
      "text/plain": [
       "3×3 Array{Int64,2}:\n",
       " 21   0   0\n",
       "  0  26   2\n",
       "  0   3  23"
      ]
     },
     "metadata": {},
     "output_type": "display_data"
    },
    {
     "name": "stdout",
     "output_type": "stream",
     "text": [
      "\n",
      "Fold 2\n",
      "Classes:  Any[\"setosa\",\"versicolor\",\"virginica\"]\n",
      "Matrix:   \n",
      "Accuracy: 0.8933333333333333\n",
      "Kappa:    0.8390557939914163\n",
      "\n",
      "Mean Accuracy: 0.9066666666666667\n",
      "\n",
      "Fold 1\n",
      "Classes:  Any[\"setosa\",\"versicolor\",\"virginica\"]\n",
      "Matrix:   \n",
      "Accuracy: 0.9333333333333333\n",
      "Kappa:    0.8992477162815691\n"
     ]
    },
    {
     "data": {
      "text/plain": [
       "3×3 Array{Int64,2}:\n",
       " 29   0   0\n",
       "  1  21   0\n",
       "  0   2  22"
      ]
     },
     "metadata": {},
     "output_type": "display_data"
    },
    {
     "data": {
      "text/plain": [
       "3×3 Array{Int64,2}:\n",
       " 22   0   0\n",
       "  0  22   1\n",
       "  0   5  25"
      ]
     },
     "metadata": {},
     "output_type": "display_data"
    },
    {
     "data": {
      "text/plain": [
       "3×3 Array{Int64,2}:\n",
       " 28   0   0\n",
       "  0  23   4\n",
       "  0   1  19"
      ]
     },
     "metadata": {},
     "output_type": "display_data"
    },
    {
     "name": "stdout",
     "output_type": "stream",
     "text": [
      "\n",
      "Fold 2\n",
      "Classes:  Any[\"setosa\",\"versicolor\",\"virginica\"]\n",
      "Matrix:   \n",
      "Accuracy: 0.96\n",
      "Kappa:    0.9395323837678043\n",
      "\n",
      "Mean Accuracy: 0.9466666666666667\n",
      "\n",
      "Fold 1\n",
      "Classes:  Any[\"setosa\",\"versicolor\",\"virginica\"]\n",
      "Matrix:   \n",
      "Accuracy: 0.92\n",
      "Kappa:    0.8796791443850268\n",
      "\n",
      "Fold 2\n",
      "Classes:  Any[\"setosa\",\"versicolor\",\"virginica\"]\n",
      "Matrix:   "
     ]
    },
    {
     "data": {
      "text/plain": [
       "3×3 Array{Int64,2}:\n",
       " 24   0   0\n",
       "  1  26   0\n",
       "  0   3  21"
      ]
     },
     "metadata": {},
     "output_type": "display_data"
    },
    {
     "data": {
      "text/plain": [
       "3×3 Array{Int64,2}:\n",
       " 26   0   0\n",
       "  0  22   1\n",
       "  0   2  24"
      ]
     },
     "metadata": {},
     "output_type": "display_data"
    },
    {
     "data": {
      "text/plain": [
       "3×3 Array{Int64,2}:\n",
       " 23   0   0\n",
       "  0  22   3\n",
       "  0   0  27"
      ]
     },
     "metadata": {},
     "output_type": "display_data"
    },
    {
     "name": "stdout",
     "output_type": "stream",
     "text": [
      "\n",
      "Accuracy: 0.9333333333333333\n",
      "Kappa:    0.8995446021966247\n",
      "\n",
      "Mean Accuracy: 0.9266666666666667\n",
      "\n",
      "Fold 1\n",
      "Classes:  Any[\"setosa\",\"versicolor\",\"virginica\"]\n",
      "Matrix:   \n",
      "Accuracy: 0.9466666666666667\n",
      "Kappa:    0.9197431781701444\n",
      "\n",
      "Fold 2\n",
      "Classes:  Any[\"setosa\",\"versicolor\",\"virginica\"]\n",
      "Matrix:   \n",
      "Accuracy: 0.96\n",
      "Kappa:    0.9399519615692553\n",
      "\n",
      "Mean Accuracy: 0.9533333333333334\n",
      "\n",
      "Fold 1\n",
      "Classes:  Any[\"setosa\",\"versicolor\",\"virginica\"]\n",
      "Matrix:   "
     ]
    },
    {
     "data": {
      "text/plain": [
       "3×3 Array{Int64,2}:\n",
       " 27   0   0\n",
       "  1  23   1\n",
       "  0   3  20"
      ]
     },
     "metadata": {},
     "output_type": "display_data"
    },
    {
     "data": {
      "text/plain": [
       "3×3 Array{Int64,2}:\n",
       " 23   0   0\n",
       "  0  20   3\n",
       "  0   2  27"
      ]
     },
     "metadata": {},
     "output_type": "display_data"
    },
    {
     "data": {
      "text/plain": [
       "3×3 Array{Int64,2}:\n",
       " 27   0   0\n",
       "  5  22   0\n",
       "  0   2  19"
      ]
     },
     "metadata": {},
     "output_type": "display_data"
    },
    {
     "name": "stdout",
     "output_type": "stream",
     "text": [
      "\n",
      "Accuracy: 0.96\n",
      "Kappa:    0.9397751605995717\n",
      "\n",
      "Fold 2\n",
      "Classes:  Any[\"setosa\",\"versicolor\",\"virginica\"]\n",
      "Matrix:   \n",
      "Accuracy: 0.9333333333333333\n",
      "Kappa:    0.8996252676659529\n",
      "\n",
      "Mean Accuracy: 0.9466666666666667\n",
      "\n",
      "Fold 1\n",
      "Classes:  Any[\"setosa\",\"versicolor\",\"virginica\"]\n",
      "Matrix:   \n",
      "Accuracy: 0.9333333333333333\n",
      "Kappa:    0.8991935483870968\n",
      "\n",
      "Fold 2\n",
      "Classes:  Any[\"setosa\",\"versicolor\",\"virginica\"]\n",
      "Matrix:   \n",
      "Accuracy: 0.9066666666666666\n",
      "Kappa:    0.8586429725363489\n",
      "\n",
      "Mean Accuracy: 0.9199999999999999\n"
     ]
    },
    {
     "data": {
      "text/plain": [
       "3×3 Array{Int64,2}:\n",
       " 26   0   0\n",
       "  5  20   1\n",
       "  0   1  22"
      ]
     },
     "metadata": {},
     "output_type": "display_data"
    },
    {
     "data": {
      "text/plain": [
       "3×3 Array{Int64,2}:\n",
       " 24   0   0\n",
       "  0  22   2\n",
       "  0   1  26"
      ]
     },
     "metadata": {},
     "output_type": "display_data"
    },
    {
     "data": {
      "text/plain": [
       "3×3 Array{Int64,2}:\n",
       " 21   3   0\n",
       "  3  21   2\n",
       "  0   0  25"
      ]
     },
     "metadata": {},
     "output_type": "display_data"
    },
    {
     "name": "stdout",
     "output_type": "stream",
     "text": [
      "\n",
      "Fold 1\n",
      "Classes:  Any[\"setosa\",\"versicolor\",\"virginica\"]\n",
      "Matrix:   \n",
      "Accuracy: 0.9066666666666666\n",
      "Kappa:    0.8597756410256411\n",
      "\n",
      "Fold 2\n",
      "Classes:  Any[\"setosa\",\"versicolor\",\"virginica\"]\n",
      "Matrix:   \n",
      "Accuracy: 0.96\n",
      "Kappa:    0.9398556535685645\n",
      "\n",
      "Mean Accuracy: 0.9333333333333333\n",
      "\n",
      "Fold 1\n",
      "Classes:  Any[\"setosa\",\"versicolor\",\"virginica\"]\n",
      "Matrix:   "
     ]
    },
    {
     "data": {
      "text/plain": [
       "3×3 Array{Int64,2}:\n",
       " 26   0   0\n",
       "  0  23   1\n",
       "  0   4  21"
      ]
     },
     "metadata": {},
     "output_type": "display_data"
    },
    {
     "data": {
      "text/plain": [
       "3×3 Array{Int64,2}:\n",
       " 31   0   0\n",
       "  0  20   1\n",
       "  0   0  23"
      ]
     },
     "metadata": {},
     "output_type": "display_data"
    },
    {
     "data": {
      "text/plain": [
       "3×3 Array{Int64,2}:\n",
       " 19   0   0\n",
       "  0  29   0\n",
       "  0   9  18"
      ]
     },
     "metadata": {},
     "output_type": "display_data"
    },
    {
     "name": "stdout",
     "output_type": "stream",
     "text": [
      "\n",
      "Accuracy: 0.8933333333333333\n",
      "Kappa:    0.84\n",
      "\n",
      "Fold 2\n",
      "Classes:  Any[\"setosa\",\"versicolor\",\"virginica\"]\n",
      "Matrix:   \n",
      "Accuracy: 0.9333333333333333\n",
      "Kappa:    0.9000266595574514\n",
      "\n",
      "Mean Accuracy: 0.9133333333333333\n",
      "\n",
      "Fold 1\n",
      "Classes:  Any[\"setosa\",\"versicolor\",\"virginica\"]\n",
      "Matrix:   \n",
      "Accuracy: 0.9866666666666667\n",
      "Kappa:    0.9796858071505959\n",
      "\n",
      "Fold 2\n",
      "Classes:  Any[\"setosa\",\"versicolor\",\"virginica\"]\n",
      "Matrix:   \n",
      "Accuracy: 0.88\n",
      "Kappa:    0.8163764961915123\n",
      "\n",
      "Mean Accuracy: 0.9333333333333333\n"
     ]
    },
    {
     "data": {
      "text/plain": [
       "3×3 Array{Int64,2}:\n",
       " 24   0   0\n",
       "  1  24   1\n",
       "  0   3  22"
      ]
     },
     "metadata": {},
     "output_type": "display_data"
    },
    {
     "data": {
      "text/plain": [
       "3×3 Array{Int64,2}:\n",
       " 25   1   0\n",
       "  3  18   3\n",
       "  0   3  22"
      ]
     },
     "metadata": {},
     "output_type": "display_data"
    },
    {
     "data": {
      "text/plain": [
       "3×3 Array{Int64,2}:\n",
       " 23   0   0\n",
       "  4  23   0\n",
       "  0   5  20"
      ]
     },
     "metadata": {},
     "output_type": "display_data"
    },
    {
     "name": "stdout",
     "output_type": "stream",
     "text": [
      "\n",
      "Fold 1\n",
      "Classes:  Any[\"setosa\",\"versicolor\",\"virginica\"]\n",
      "Matrix:   \n",
      "Accuracy: 0.9333333333333333\n",
      "Kappa:    0.8999466382070438\n",
      "\n",
      "Fold 2\n",
      "Classes:  Any[\"setosa\",\"versicolor\",\"virginica\"]\n",
      "Matrix:   \n",
      "Accuracy: 0.8666666666666667\n",
      "Kappa:    0.7996794871794872\n",
      "\n",
      "Mean Accuracy: 0.9\n",
      "\n",
      "Fold 1\n",
      "Classes:  Any[\"setosa\",\"versicolor\",\"virginica\"]\n",
      "Matrix:   "
     ]
    },
    {
     "data": {
      "text/plain": [
       "3×3 Array{Int64,2}:\n",
       " 27   0   0\n",
       "  0  20   3\n",
       "  0   1  24"
      ]
     },
     "metadata": {},
     "output_type": "display_data"
    },
    {
     "data": {
      "text/plain": [
       "3×3 Array{Int64,2}:\n",
       " 28   0   0\n",
       "  0  20   1\n",
       "  0   1  25"
      ]
     },
     "metadata": {},
     "output_type": "display_data"
    },
    {
     "data": {
      "text/plain": [
       "3×3 Array{Int64,2}:\n",
       " 22   0   0\n",
       "  0  28   1\n",
       "  0   4  20"
      ]
     },
     "metadata": {},
     "output_type": "display_data"
    },
    {
     "name": "stdout",
     "output_type": "stream",
     "text": [
      "\n",
      "Accuracy: 0.88\n",
      "Kappa:    0.8199039487726789\n",
      "\n",
      "Fold 2\n",
      "Classes:  Any[\"setosa\",\"versicolor\",\"virginica\"]\n",
      "Matrix:   \n",
      "Accuracy: 0.9466666666666667\n",
      "Kappa:    0.9197431781701444\n",
      "\n",
      "Mean Accuracy: 0.9133333333333333\n",
      "\n",
      "Fold 1\n",
      "Classes:  Any[\"setosa\",\"versicolor\",\"virginica\"]\n",
      "Matrix:   \n",
      "Accuracy: 0.9733333333333334\n",
      "Kappa:    0.9597207303974222\n",
      "\n",
      "Fold 2\n",
      "Classes:  Any[\"setosa\",\"versicolor\",\"virginica\"]\n",
      "Matrix:   \n",
      "Accuracy: 0.9333333333333333\n",
      "Kappa:    0.8988945807495282\n",
      "\n",
      "Mean Accuracy: 0.9533333333333334\n"
     ]
    },
    {
     "data": {
      "text/plain": [
       "3×3 Array{Int64,2}:\n",
       " 21   2   0\n",
       "  3  22   3\n",
       "  0   1  23"
      ]
     },
     "metadata": {},
     "output_type": "display_data"
    },
    {
     "name": "stdout",
     "output_type": "stream",
     "text": [
      "\n",
      "Fold 1\n",
      "Classes:  Any[\"setosa\",\"versicolor\",\"virginica\"]\n",
      "Matrix:   \n",
      "Accuracy: 0.88\n",
      "Kappa:    0.8199519871965858"
     ]
    },
    {
     "data": {
      "text/plain": [
       "3×3 Array{Int64,2}:\n",
       " 27   0   0\n",
       "  0  22   0\n",
       "  0   4  22"
      ]
     },
     "metadata": {},
     "output_type": "display_data"
    },
    {
     "name": "stdout",
     "output_type": "stream",
     "text": [
      "\n",
      "\n",
      "Fold 2\n",
      "Classes:  Any[\"setosa\",\"versicolor\",\"virginica\"]\n",
      "Matrix:   "
     ]
    },
    {
     "data": {
      "text/plain": [
       "3×3 Array{Int64,2}:\n",
       " 27   0   0\n",
       "  0  23   1\n",
       "  0   4  20"
      ]
     },
     "metadata": {},
     "output_type": "display_data"
    },
    {
     "name": "stdout",
     "output_type": "stream",
     "text": [
      "\n",
      "Accuracy: 0.9466666666666667\n",
      "Kappa:    0.9200426439232411\n",
      "\n",
      "Mean Accuracy: 0.9133333333333333\n",
      "\n",
      "Fold 1\n",
      "Classes:  Any[\"setosa\",\"versicolor\",\"virginica\"]\n",
      "Matrix:   "
     ]
    },
    {
     "data": {
      "text/plain": [
       "3×3 Array{Int64,2}:\n",
       " 23   0   0\n",
       "  0  26   0\n",
       "  0   4  22"
      ]
     },
     "metadata": {},
     "output_type": "display_data"
    },
    {
     "data": {
      "text/plain": [
       "3×3 Array{Int64,2}:\n",
       " 25   0   0\n",
       "  0  23   0\n",
       "  0   2  25"
      ]
     },
     "metadata": {},
     "output_type": "display_data"
    },
    {
     "data": {
      "text/plain": [
       "3×3 Array{Int64,2}:\n",
       " 25   0   0\n",
       "  1  21   5\n",
       "  0   1  22"
      ]
     },
     "metadata": {},
     "output_type": "display_data"
    },
    {
     "name": "stdout",
     "output_type": "stream",
     "text": [
      "\n",
      "Accuracy: 0.9333333333333333\n",
      "Kappa:    0.8998397435897436\n",
      "\n",
      "Fold 2\n",
      "Classes:  Any[\"setosa\",\"versicolor\",\"virginica\"]\n",
      "Matrix:   \n",
      "Accuracy: 0.9466666666666667\n",
      "Kappa:    0.919871794871795\n",
      "\n",
      "Mean Accuracy: 0.94\n",
      "\n",
      "Fold 1\n",
      "Classes:  Any[\"setosa\",\"versicolor\",\"virginica\"]\n",
      "Matrix:   \n",
      "Accuracy: 0.9733333333333334\n",
      "Kappa:    0.9600000000000001\n",
      "\n",
      "Fold 2\n",
      "Classes:  Any[\"setosa\",\"versicolor\",\"virginica\"]\n",
      "Matrix:   "
     ]
    },
    {
     "data": {
      "text/plain": [
       "3×3 Array{Int64,2}:\n",
       " 29   0   0\n",
       "  0  21   0\n",
       "  0   2  23"
      ]
     },
     "metadata": {},
     "output_type": "display_data"
    },
    {
     "data": {
      "text/plain": [
       "3×3 Array{Int64,2}:\n",
       " 21   0   0\n",
       "  0  27   2\n",
       "  0   5  20"
      ]
     },
     "metadata": {},
     "output_type": "display_data"
    },
    {
     "name": "stdout",
     "output_type": "stream",
     "text": [
      "\n",
      "Accuracy: 0.9066666666666666\n",
      "Kappa:    0.860372340425532\n",
      "\n",
      "Mean Accuracy: 0.94\n",
      "\n",
      "Fold 1\n",
      "Classes:  Any[\"setosa\",\"versicolor\",\"virginica\"]\n",
      "Matrix:   \n",
      "Accuracy: 0.9733333333333334\n",
      "Kappa:    0.9597423510466989\n",
      "\n",
      "Fold 2\n",
      "Classes:  Any[\"setosa\",\"versicolor\",\"virginica\"]\n",
      "Matrix:   \n",
      "Accuracy: 0.9066666666666666\n",
      "Kappa:    0.858337830545062\n",
      "\n",
      "Mean Accuracy: 0.94\n"
     ]
    },
    {
     "data": {
      "text/plain": [
       "3×3 Array{Int64,2}:\n",
       " 19   0   0\n",
       "  0  25   0\n",
       "  0   3  28"
      ]
     },
     "metadata": {},
     "output_type": "display_data"
    },
    {
     "data": {
      "text/plain": [
       "3×3 Array{Int64,2}:\n",
       " 31   0   0\n",
       "  2  22   1\n",
       "  0   4  15"
      ]
     },
     "metadata": {},
     "output_type": "display_data"
    },
    {
     "data": {
      "text/plain": [
       "3×3 Array{Int64,2}:\n",
       " 30   0   0\n",
       "  3  16   1\n",
       "  0   4  21"
      ]
     },
     "metadata": {},
     "output_type": "display_data"
    },
    {
     "name": "stdout",
     "output_type": "stream",
     "text": [
      "\n",
      "Fold 1\n",
      "Classes:  Any[\"setosa\",\"versicolor\",\"virginica\"]\n",
      "Matrix:   \n",
      "Accuracy: 0.96\n",
      "Kappa:    0.9391233766233765\n",
      "\n",
      "Fold 2\n",
      "Classes:  Any[\"setosa\",\"versicolor\",\"virginica\"]\n",
      "Matrix:   \n",
      "Accuracy: 0.9066666666666666\n",
      "Kappa:    0.8560855263157893\n",
      "\n",
      "Mean Accuracy: 0.9333333333333333\n",
      "\n",
      "Fold 1\n",
      "Classes:  Any[\"setosa\",\"versicolor\",\"virginica\"]\n",
      "Matrix:   \n",
      "Accuracy: 0.8933333333333333\n",
      "Kappa:    0.8371777476255088\n"
     ]
    },
    {
     "data": {
      "text/plain": [
       "3×3 Array{Int64,2}:\n",
       " 20   0   0\n",
       "  0  26   4\n",
       "  0   0  25"
      ]
     },
     "metadata": {},
     "output_type": "display_data"
    },
    {
     "name": "stdout",
     "output_type": "stream",
     "text": [
      "\n",
      "Fold 2\n",
      "Classes:  Any[\"setosa\",\"versicolor\",\"virginica\"]\n",
      "Matrix:   "
     ]
    },
    {
     "data": {
      "text/plain": [
       "3×3 Array{Int64,2}:\n",
       " 26   0   0\n",
       "  0  21   4\n",
       "  0   0  24"
      ]
     },
     "metadata": {},
     "output_type": "display_data"
    },
    {
     "data": {
      "text/plain": [
       "3×3 Array{Int64,2}:\n",
       " 24   0   0\n",
       "  6  18   1\n",
       "  0   4  22"
      ]
     },
     "metadata": {},
     "output_type": "display_data"
    },
    {
     "name": "stdout",
     "output_type": "stream",
     "text": [
      "\n",
      "Accuracy: 0.9466666666666667\n",
      "Kappa:    0.9193548387096774\n",
      "\n",
      "Mean Accuracy: 0.9199999999999999\n",
      "\n",
      "Fold 1\n",
      "Classes:  Any[\"setosa\",\"versicolor\",\"virginica\"]\n",
      "Matrix:   \n",
      "Accuracy: 0.9466666666666667\n",
      "Kappa:    0.9200426439232411\n",
      "\n",
      "Fold 2\n",
      "Classes:  Any[\"setosa\",\"versicolor\",\"virginica\"]\n",
      "Matrix:   \n",
      "Accuracy: 0.8533333333333334\n",
      "Kappa:    0.780409901517168\n",
      "\n",
      "Mean Accuracy: 0.9\n",
      "Overall Acc:92.73333333333336 14.748917 seconds (5.45 M allocations: 238.855 MB, 0.85% gc time)\n"
     ]
    }
   ],
   "source": [
    "n=30\n",
    "@time begin \n",
    "    s=0\n",
    "    for i=1:n\n",
    "        s += irisAcc()\n",
    "    end\n",
    "    print(\"Overall Acc:\",s/n*100.0)\n",
    "end"
   ]
  },
  {
   "cell_type": "code",
   "execution_count": 26,
   "metadata": {
    "collapsed": true
   },
   "outputs": [
    {
     "name": "stdout",
     "output_type": "stream",
     "text": [
      "\tFrom worker 3:\t\n",
      "\tFrom worker 3:\tFold 1\n",
      "\tFrom worker 2:\t\n",
      "\tFrom worker 2:\tFold 1\n",
      "\tFrom worker 4:\t\n",
      "\tFrom worker 4:\tFold 1\n",
      "\tFrom worker 5:\t\n",
      "\tFrom worker 5:\tFold 1\n",
      "\tFrom worker 3:\tClasses:  Any[\"setosa\",\"versicolor\",\"virginica\"]\n",
      "\tFrom worker 2:\tClasses:  Any[\"setosa\",\"versicolor\",\"virginica\"]\n",
      "\tFrom worker 4:\tClasses:  Any[\"setosa\",\"versicolor\",\"virginica\"]\n",
      "\tFrom worker 5:\tClasses:  Any[\"setosa\",\"versicolor\",\"virginica\"]\n",
      "\tFrom worker 2:\tMatrix:   3×3 Array{Int64,2}:\n",
      "\tFrom worker 3:\tMatrix:   3×3 Array{Int64,2}:\n",
      "\tFrom worker 4:\tMatrix:   3×3 Array{Int64,2}:\n",
      "\tFrom worker 5:\tMatrix:   3×3 Array{Int64,2}:\n",
      "\tFrom worker 2:\t 22   0   0\n",
      "\tFrom worker 2:\t  1  26   1\n",
      "\tFrom worker 2:\t  0   3  22\n",
      "\tFrom worker 2:\tAccuracy: 0.9333333333333333\n",
      "\tFrom worker 2:\tKappa:    0.8995176848874599\n",
      "\tFrom worker 3:\t 23   3   0\n",
      "\tFrom worker 3:\t  0  24   2\n",
      "\tFrom worker 3:\t  0   5  18\n",
      "\tFrom worker 3:\tAccuracy: 0.8666666666666667\n",
      "\tFrom worker 3:\tKappa:    0.7991967871485944\n",
      "\tFrom worker 4:\t 26   0   0\n",
      "\tFrom worker 4:\t  0  22   1\n",
      "\tFrom worker 4:\t  0   3  23\n",
      "\tFrom worker 4:\tAccuracy: 0.9466666666666667\n",
      "\tFrom worker 4:\tKappa:    0.9199999999999998\n",
      "\tFrom worker 2:\t\n",
      "\tFrom worker 2:\tFold 2\n",
      "\tFrom worker 2:\tClasses:  Any[\"setosa\",\"versicolor\",\"virginica\"]\n",
      "\tFrom worker 3:\t\n",
      "\tFrom worker 3:\tFold 2\n",
      "\tFrom worker 3:\tClasses:  Any[\"setosa\",\"versicolor\",\"virginica\"]\n",
      "\tFrom worker 4:\t\n",
      "\tFrom worker 4:\tFold 2\n",
      "\tFrom worker 4:\tClasses:  Any[\"setosa\",\"versicolor\",\"virginica\"]\n",
      "\tFrom worker 2:\tMatrix:   3×3 Array{Int64,2}:\n",
      "\tFrom worker 2:\t 28   0   0\n",
      "\tFrom worker 2:\t  1  19   2\n",
      "\tFrom worker 2:\t  0   0  25\n",
      "\tFrom worker 2:\tAccuracy: 0.96\n",
      "\tFrom worker 2:\tKappa:    0.939516129032258\n",
      "\tFrom worker 5:\t 25   0   0\n",
      "\tFrom worker 5:\t  0  19   1\n",
      "\tFrom worker 5:\t  0   5  25\n",
      "\tFrom worker 5:\tAccuracy: 0.92\n",
      "\tFrom worker 3:\tMatrix:   3×3 Array{Int64,2}:\n",
      "\tFrom worker 5:\tKappa:    0.8796791443850268\n",
      "\tFrom worker 3:\t 24   0   0\n",
      "\tFrom worker 3:\t  0  23   1\n",
      "\tFrom worker 3:\t  0   1  26\n",
      "\tFrom worker 3:\tAccuracy: 0.9733333333333334\n",
      "\tFrom worker 3:\tKappa:    0.9599358974358975\n",
      "\tFrom worker 4:\tMatrix:   3×3 Array{Int64,2}:\n",
      "\tFrom worker 4:\t 24   0   0\n",
      "\tFrom worker 4:\t  0  26   1\n",
      "\tFrom worker 4:\t  0   1  23\n",
      "\tFrom worker 4:\tAccuracy: 0.9733333333333334\n",
      "\tFrom worker 4:\tKappa:    0.9599358974358975\n",
      "\tFrom worker 2:\t\n",
      "\tFrom worker 3:\t\n",
      "\tFrom worker 2:\tMean Accuracy: 0.9466666666666667\n",
      "\tFrom worker 3:\tMean Accuracy: 0.92\n",
      "\tFrom worker 5:\t\n",
      "\tFrom worker 5:\tFold 2\n",
      "\tFrom worker 5:\tClasses:  Any[\"setosa\",\"versicolor\",\"virginica\"]\n",
      "\tFrom worker 4:\t\n",
      "\tFrom worker 5:\tMatrix:   3×3 Array{Int64,2}:\n",
      "\tFrom worker 4:\tMean Accuracy: 0.96\n",
      "\tFrom worker 5:\t 25   0   0\n",
      "\tFrom worker 5:\t  0  28   2\n",
      "\tFrom worker 5:\t  0   1  19\n",
      "\tFrom worker 5:\tAccuracy: 0.96\n",
      "\tFrom worker 5:\tKappa:    0.9393530997304582\n",
      "\tFrom worker 5:\t\n",
      "\tFrom worker 2:\t\n",
      "\tFrom worker 2:\tFold 1\n",
      "\tFrom worker 2:\tClasses:  Any[\"setosa\",\"versicolor\",\"virginica\"]\n",
      "\tFrom worker 3:\t\n",
      "\tFrom worker 3:\tFold 1\n",
      "\tFrom worker 3:\tClasses:  Any[\"setosa\",\"versicolor\",\"virginica\"]\n",
      "\tFrom worker 5:\tMean Accuracy: 0.94\n",
      "\tFrom worker 2:\tMatrix:   3×3 Array{Int64,2}:\n",
      "\tFrom worker 2:\t 26   0   0\n",
      "\tFrom worker 2:\t  0  19   2\n",
      "\tFrom worker 2:\t  0   0  28\n",
      "\tFrom worker 2:\tAccuracy: 0.9733333333333334\n",
      "\tFrom worker 2:\tKappa:    0.9595687331536389\n",
      "\tFrom worker 3:\tMatrix:   3×3 Array{Int64,2}:\n",
      "\tFrom worker 3:\t 23   0   0\n",
      "\tFrom worker 3:\t  0  24   3\n",
      "\tFrom worker 3:\t  0   1  24\n",
      "\tFrom worker 3:\tAccuracy: 0.9466666666666667\n",
      "\tFrom worker 3:\tKappa:    0.9199145755472502\n",
      "\tFrom worker 2:\t\n",
      "\tFrom worker 2:\tFold 2\n",
      "\tFrom worker 2:\tClasses:  Any[\"setosa\",\"versicolor\",\"virginica\"]\n",
      "\tFrom worker 4:\t\n",
      "\tFrom worker 4:\tFold 1\n",
      "\tFrom worker 4:\tClasses:  Any[\"setosa\",\"versicolor\",\"virginica\"]\n",
      "\tFrom worker 2:\tMatrix:   3×3 Array{Int64,2}:\n",
      "\tFrom worker 2:\t 24   0   0\n",
      "\tFrom worker 2:\t  0  28   1\n",
      "\tFrom worker 2:\t  0   5  17\n",
      "\tFrom worker 2:\tAccuracy: 0.92\n",
      "\tFrom worker 2:\tKappa:    0.8782467532467533\n",
      "\tFrom worker 2:\t\n",
      "\tFrom worker 2:\tMean Accuracy: 0.9466666666666668\n",
      "\tFrom worker 3:\t\n",
      "\tFrom worker 3:\tFold 2\n",
      "\tFrom worker 3:\tClasses:  Any[\"setosa\",\"versicolor\",\"virginica\"]\n",
      "\tFrom worker 4:\tMatrix:   3×3 Array{Int64,2}:\n",
      "\tFrom worker 4:\t 26   0   0\n",
      "\tFrom worker 4:\t  0  17   4\n",
      "\tFrom worker 4:\t  0   6  22\n",
      "\tFrom worker 4:\tAccuracy: 0.8666666666666667\n",
      "\tFrom worker 4:\tKappa:    0.7993579454253612\n",
      "\tFrom worker 3:\tMatrix:   3×3 Array{Int64,2}:\n",
      "\tFrom worker 5:\t\n",
      "\tFrom worker 5:\tFold 1\n",
      "\tFrom worker 5:\tClasses:  Any[\"setosa\",\"versicolor\",\"virginica\"]\n",
      "\tFrom worker 2:\t\n",
      "\tFrom worker 2:\tFold 1\n",
      "\tFrom worker 2:\tClasses:  Any[\"setosa\",\"versicolor\",\"virginica\"]\n",
      "\tFrom worker 4:\t\n",
      "\tFrom worker 4:\tFold 2\n",
      "\tFrom worker 4:\tClasses:  Any[\"setosa\",\"versicolor\",\"virginica\"]\n",
      "\tFrom worker 3:\t 27   0   0\n",
      "\tFrom worker 3:\t  1  21   1\n",
      "\tFrom worker 3:\t  0   1  24\n",
      "\tFrom worker 3:\tAccuracy: 0.96\n",
      "\tFrom worker 3:\tKappa:    0.9398073836276083\n",
      "\tFrom worker 3:\t\n",
      "\tFrom worker 3:\tMean Accuracy: 0.9533333333333334\n",
      "\tFrom worker 2:\tMatrix:   3×3 Array{Int64,2}:\n",
      "\tFrom worker 2:\t 27   0   0\n",
      "\tFrom worker 2:\t  0  22   1\n",
      "\tFrom worker 2:\t  0   7  18\n",
      "\tFrom worker 2:\tAccuracy: 0.8933333333333333\n",
      "\tFrom worker 2:\tKappa:    0.840170484816196\n",
      "\tFrom worker 5:\tMatrix:   3×3 Array{Int64,2}:\n",
      "\tFrom worker 4:\tMatrix:   3×3 Array{Int64,2}:\n",
      "\tFrom worker 5:\t 19   0   0\n",
      "\tFrom worker 5:\t  1  28   1\n",
      "\tFrom worker 5:\t  0   3  23\n",
      "\tFrom worker 5:\tAccuracy: 0.9333333333333333\n",
      "\tFrom worker 5:\tKappa:    0.8984015172040097\n",
      "\tFrom worker 4:\t 23   1   0\n",
      "\tFrom worker 4:\t  2  26   1\n",
      "\tFrom worker 2:\t\n",
      "\tFrom worker 4:\t  0   7  15\n",
      "\tFrom worker 4:\tAccuracy: 0.8533333333333334\n",
      "\tFrom worker 4:\tKappa:    0.7762408462164362\n",
      "\tFrom worker 4:\t\n",
      "\tFrom worker 4:\tMean Accuracy: 0.8600000000000001\n",
      "\tFrom worker 2:\tFold 2\n",
      "\tFrom worker 2:\tClasses:  Any[\"setosa\",\"versicolor\",\"virginica\"]\n",
      "\tFrom worker 5:\t\n",
      "\tFrom worker 3:\t\n",
      "\tFrom worker 5:\tFold 2\n",
      "\tFrom worker 3:\tFold 1\n",
      "\tFrom worker 5:\tClasses:  Any[\"setosa\",\"versicolor\",\"virginica\"]\n",
      "\tFrom worker 3:\tClasses:  Any[\"setosa\",\"versicolor\",\"virginica\"]\n",
      "\tFrom worker 5:\tMatrix:   3×3 Array{Int64,2}:\n",
      "\tFrom worker 2:\tMatrix:   3×3 Array{Int64,2}:\n",
      "\tFrom worker 5:\t 31   0   0\n",
      "\tFrom worker 5:\t  1  19   0\n",
      "\tFrom worker 5:\t  0   3  21\n",
      "\tFrom worker 5:\tAccuracy: 0.9466666666666667\n",
      "\tFrom worker 5:\tKappa:    0.9186771482786663\n",
      "\tFrom worker 5:\t\n",
      "\tFrom worker 5:\tMean Accuracy: 0.94\n",
      "\tFrom worker 3:\tMatrix:   3×3 Array{Int64,2}:\n",
      "\tFrom worker 2:\t 23   0   0\n",
      "\tFrom worker 2:\t  0  27   0\n",
      "\tFrom worker 2:\t  0   1  24\n",
      "\tFrom worker 2:\tAccuracy: 0.9866666666666667\n",
      "\tFrom worker 2:\tKappa:    0.9799465240641712\n",
      "\tFrom worker 2:\t\n",
      "\tFrom worker 2:\tMean Accuracy: 0.94\n",
      "\tFrom worker 3:\t 25   0   0\n",
      "\tFrom worker 3:\t  0  22   1\n",
      "\tFrom worker 3:\t  0   2  25\n",
      "\tFrom worker 3:\tAccuracy: 0.96\n",
      "\tFrom worker 3:\tKappa:    0.9399359316604378\n",
      "\tFrom worker 3:\t\n",
      "\tFrom worker 3:\tFold 2\n",
      "\tFrom worker 3:\tClasses:  Any[\"setosa\",\"versicolor\",\"virginica\"]\n",
      "\tFrom worker 4:\t\n",
      "\tFrom worker 4:\tFold 1\n",
      "\tFrom worker 4:\tClasses:  Any[\"setosa\",\"versicolor\",\"virginica\"]\n",
      "\tFrom worker 5:\t\n",
      "\tFrom worker 5:\tFold 1\n",
      "\tFrom worker 5:\tClasses:  Any[\"setosa\",\"versicolor\",\"virginica\"]\n",
      "\tFrom worker 3:\tMatrix:   3×3 Array{Int64,2}:\n",
      "\tFrom worker 4:\tMatrix:   3×3 Array{Int64,2}:\n",
      "\tFrom worker 4:\t 22   0   0\n",
      "\tFrom worker 4:\t  0  27   0\n",
      "\tFrom worker 4:\t  0   9  17\n",
      "\tFrom worker 4:\tAccuracy: 0.88\n",
      "\tFrom worker 4:\tKappa:    0.8188891870136841\n",
      "\tFrom worker 2:\t\n",
      "\tFrom worker 2:\tFold 1\n",
      "\tFrom worker 2:\tClasses:  Any[\"setosa\",\"versicolor\",\"virginica\"]\n",
      "\tFrom worker 5:\tMatrix:   3×3 Array{Int64,2}:\n",
      "\tFrom worker 5:\t 25   0   0\n",
      "\tFrom worker 5:\t  0  27   4\n",
      "\tFrom worker 5:\t  0   0  19\n",
      "\tFrom worker 5:\tAccuracy: 0.9466666666666667\n",
      "\tFrom worker 5:\tKappa:    0.9194847020933977\n",
      "\tFrom worker 4:\t\n",
      "\tFrom worker 4:\tFold 2\n",
      "\tFrom worker 4:\tClasses:  Any[\"setosa\",\"versicolor\",\"virginica\"]\n",
      "\tFrom worker 3:\t 25   0   0\n",
      "\tFrom worker 3:\t  0  27   0\n",
      "\tFrom worker 3:\t  0   2  21\n",
      "\tFrom worker 3:\tAccuracy: 0.9733333333333334\n",
      "\tFrom worker 3:\tKappa:    0.9598286020353509\n",
      "\tFrom worker 3:\t\n",
      "\tFrom worker 3:\tMean Accuracy: 0.9666666666666667\n",
      "\tFrom worker 2:\tMatrix:   3×3 Array{Int64,2}:\n",
      "\tFrom worker 4:\tMatrix:   3×3 Array{Int64,2}:\n",
      "\tFrom worker 2:\t 24   0   0\n",
      "\tFrom worker 2:\t  4  23   1\n",
      "\tFrom worker 2:\t  0   4  19\n",
      "\tFrom worker 2:\tAccuracy: 0.88\n",
      "\tFrom worker 2:\tKappa:    0.8193738292748193\n",
      "\tFrom worker 5:\t\n",
      "\tFrom worker 5:\tFold 2\n",
      "\tFrom worker 5:\tClasses:  Any[\"setosa\",\"versicolor\",\"virginica\"]\n",
      "\tFrom worker 4:\t 28   0   0\n",
      "\tFrom worker 4:\t  0  20   3\n",
      "\tFrom worker 4:\t  0   0  24\n",
      "\tFrom worker 4:\tAccuracy: 0.96\n",
      "\tFrom worker 4:\tKappa:    0.9397267613179747\n",
      "\tFrom worker 4:\t\n",
      "\tFrom worker 4:\tMean Accuracy: 0.9199999999999999\n",
      "\tFrom worker 5:\tMatrix:   3×3 Array{Int64,2}:\n",
      "\tFrom worker 2:\t\n",
      "\tFrom worker 2:\tFold 2\n",
      "\tFrom worker 2:\tClasses:  Any[\"setosa\",\"versicolor\",\"virginica\"]\n",
      "\tFrom worker 3:\t\n",
      "\tFrom worker 3:\tFold 1\n",
      "\tFrom worker 3:\tClasses:  Any[\"setosa\",\"versicolor\",\"virginica\"]\n",
      "\tFrom worker 5:\t 25   0   0\n",
      "\tFrom worker 5:\t  1  17   1\n",
      "\tFrom worker 5:\t  0   6  25\n",
      "\tFrom worker 5:\tAccuracy: 0.8933333333333333\n",
      "\tFrom worker 5:\tKappa:    0.8392282958199356\n",
      "\tFrom worker 5:\t\n",
      "\tFrom worker 5:\tMean Accuracy: 0.9199999999999999\n",
      "\tFrom worker 3:\tMatrix:   3×3 Array{Int64,2}:\n",
      "\tFrom worker 2:\tMatrix:   3×3 Array{Int64,2}:\n",
      "\tFrom worker 3:\t 24   0   0\n",
      "\tFrom worker 3:\t  0  27   1\n",
      "\tFrom worker 3:\t  0   4  19\n",
      "\tFrom worker 3:\tAccuracy: 0.9333333333333333\n",
      "\tFrom worker 3:\tKappa:    0.8992206396130072\n",
      "\tFrom worker 4:\t\n",
      "\tFrom worker 4:\tFold 1\n",
      "\tFrom worker 4:\tClasses:  Any[\"setosa\",\"versicolor\",\"virginica\"]\n",
      "\tFrom worker 2:\t 26   0   0\n",
      "\tFrom worker 2:\t  0  20   2\n",
      "\tFrom worker 2:\t  0   1  26\n",
      "\tFrom worker 2:\tAccuracy: 0.96\n",
      "\tFrom worker 2:\tKappa:    0.9396944518895738\n",
      "\tFrom worker 2:\t\n",
      "\tFrom worker 2:\tMean Accuracy: 0.9199999999999999\n",
      "\tFrom worker 4:\tMatrix:   3×3 Array{Int64,2}:\n",
      "\tFrom worker 3:\t\n",
      "\tFrom worker 3:\tFold 2\n",
      "\tFrom worker 3:\tClasses:  Any[\"setosa\",\"versicolor\",\"virginica\"]\n",
      "\tFrom worker 4:\t 26   0   0\n",
      "\tFrom worker 4:\t  4  21   3\n",
      "\tFrom worker 4:\t  0   5  16\n",
      "\tFrom worker 4:\tAccuracy: 0.84\n",
      "\tFrom worker 4:\tKappa:    0.7579343733189886\n",
      "\tFrom worker 3:\tMatrix:   3×3 Array{Int64,2}:\n",
      "\tFrom worker 5:\t\n",
      "\tFrom worker 5:\tFold 1\n",
      "\tFrom worker 5:\tClasses:  Any[\"setosa\",\"versicolor\",\"virginica\"]\n",
      "\tFrom worker 2:\t\n",
      "\tFrom worker 2:\tFold 1\n",
      "\tFrom worker 2:\tClasses:  Any[\"setosa\",\"versicolor\",\"virginica\"]\n",
      "\tFrom worker 4:\t\n",
      "\tFrom worker 4:\tFold 2\n",
      "\tFrom worker 4:\tClasses:  Any[\"setosa\",\"versicolor\",\"virginica\"]\n",
      "\tFrom worker 3:\t 26   0   0\n",
      "\tFrom worker 3:\t  0  18   4\n",
      "\tFrom worker 3:\t  0   0  27\n",
      "\tFrom worker 3:\tAccuracy: 0.9466666666666667\n",
      "\tFrom worker 3:\tKappa:    0.9192680301399354\n",
      "\tFrom worker 3:\t\n",
      "\tFrom worker 3:\tMean Accuracy: 0.94\n",
      "\tFrom worker 5:\tMatrix:   3×3 Array{Int64,2}:\n",
      "\tFrom worker 5:\t 25   0   0\n",
      "\tFrom worker 5:\t  6  22   0\n",
      "\tFrom worker 5:\t  0   3  19\n",
      "\tFrom worker 5:\tAccuracy: 0.88\n",
      "\tFrom worker 5:\tKappa:    0.8191318327974276\n",
      "\tFrom worker 2:\tMatrix:   3×3 Array{Int64,2}:\n",
      "\tFrom worker 4:\tMatrix:   3×3 Array{Int64,2}:\n",
      "\tFrom worker 2:\t 24   0   0\n",
      "\tFrom worker 2:\t  0  20   1\n",
      "\tFrom worker 2:\t  0   3  27\n",
      "\tFrom worker 2:\tAccuracy: 0.9466666666666667\n",
      "\tFrom worker 2:\tKappa:    0.9194847020933977\n",
      "\tFrom worker 5:\t\n",
      "\tFrom worker 5:\tFold 2\n",
      "\tFrom worker 5:\tClasses:  Any[\"setosa\",\"versicolor\",\"virginica\"]\n",
      "\tFrom worker 3:\t\n",
      "\tFrom worker 3:\tFold 1\n",
      "\tFrom worker 3:\tClasses:  Any[\"setosa\",\"versicolor\",\"virginica\"]\n",
      "\tFrom worker 4:\t 24   0   0\n",
      "\tFrom worker 4:\t  0  18   4\n",
      "\tFrom worker 2:\t\n",
      "\tFrom worker 4:\t  0   1  28\n",
      "\tFrom worker 2:\tFold 2\n",
      "\tFrom worker 4:\tAccuracy: 0.9333333333333333\n",
      "\tFrom worker 2:\tClasses:  Any[\"setosa\",\"versicolor\",\"virginica\"]\n",
      "\tFrom worker 4:\tKappa:    0.8987307588441804\n",
      "\tFrom worker 4:\t\n",
      "\tFrom worker 4:\tMean Accuracy: 0.8866666666666667\n",
      "\tFrom worker 3:\tMatrix:   3×3 Array{Int64,2}:\n",
      "\tFrom worker 3:\t 26   0   0\n",
      "\tFrom worker 3:\t  0  20   5\n",
      "\tFrom worker 5:\tMatrix:   3×3 Array{Int64,2}:\n",
      "\tFrom worker 3:\t  0   4  20\n",
      "\tFrom worker 3:\tAccuracy: 0.88\n",
      "\tFrom worker 3:\tKappa:    0.8199519871965858\n",
      "\tFrom worker 5:\t 25   0   0\n",
      "\tFrom worker 5:\t  1  20   1\n",
      "\tFrom worker 5:\t  0   2  26\n",
      "\tFrom worker 5:\tAccuracy: 0.9466666666666667\n",
      "\tFrom worker 5:\tKappa:    0.9196787148594379\n",
      "\tFrom worker 5:\t\n",
      "\tFrom worker 5:\tMean Accuracy: 0.9133333333333333\n",
      "\tFrom worker 2:\tMatrix:   3×3 Array{Int64,2}:\n",
      "\tFrom worker 3:\t\n",
      "\tFrom worker 3:\tFold 2\n",
      "\tFrom worker 3:\tClasses:  Any[\"setosa\",\"versicolor\",\"virginica\"]\n",
      "\tFrom worker 2:\t 26   0   0\n",
      "\tFrom worker 2:\t  3  24   2\n",
      "\tFrom worker 2:\t  0   1  19\n",
      "\tFrom worker 2:\tAccuracy: 0.92\n",
      "\tFrom worker 2:\tKappa:    0.8792270531400966\n",
      "\tFrom worker 2:\t\n",
      "\tFrom worker 2:\tMean Accuracy: 0.9333333333333333\n",
      "\tFrom worker 3:\tMatrix:   3×3 Array{Int64,2}:\n",
      "\tFrom worker 4:\t\n",
      "\tFrom worker 4:\tFold 1\n",
      "\tFrom worker 4:\tClasses:  Any[\"setosa\",\"versicolor\",\"virginica\"]\n",
      "\tFrom worker 3:\t 24   0   0\n",
      "\tFrom worker 5:\t\n",
      "\tFrom worker 3:\t  0  24   1\n",
      "\tFrom worker 5:\tFold 1\n",
      "\tFrom worker 3:\t  0   2  24\n",
      "\tFrom worker 3:\tAccuracy: 0.96\n",
      "\tFrom worker 5:\tClasses:  Any[\"setosa\",\"versicolor\",\"virginica\"]\n",
      "\tFrom worker 3:\tKappa:    0.9399839957321952\n",
      "\tFrom worker 3:\t\n",
      "\tFrom worker 3:\tMean Accuracy: 0.9199999999999999\n",
      "\tFrom worker 4:\tMatrix:   3×3 Array{Int64,2}:\n",
      "\tFrom worker 5:\tMatrix:   3×3 Array{Int64,2}:\n",
      "\tFrom worker 4:\t 20   0   0\n",
      "\tFrom worker 4:\t  0  26   1\n",
      "\tFrom worker 4:\t  0   3  25\n",
      "\tFrom worker 4:\tAccuracy: 0.9466666666666667\n",
      "\tFrom worker 4:\tKappa:    0.9192245557350566\n",
      "\tFrom worker 5:\t 24   0   0\n",
      "\tFrom worker 5:\t  7  16   5\n",
      "\tFrom worker 5:\t  0   0  23\n",
      "\tFrom worker 5:\tAccuracy: 0.84\n",
      "\tFrom worker 5:\tKappa:    0.7624703087885986\n",
      "\tFrom worker 4:\t\n",
      "\tFrom worker 4:\tFold 2\n",
      "\tFrom worker 2:\t\n",
      "\tFrom worker 2:\tFold 1\n",
      "\tFrom worker 4:\tClasses:  Any[\"setosa\",\"versicolor\",\"virginica\"]\n",
      "\tFrom worker 2:\tClasses:  Any[\"setosa\",\"versicolor\",\"virginica\"]\n",
      "\tFrom worker 3:\t\n",
      "\tFrom worker 3:\tFold 1\n",
      "\tFrom worker 3:\tClasses:  Any[\"setosa\",\"versicolor\",\"virginica\"]\n",
      "\tFrom worker 5:\t\n",
      "\tFrom worker 5:\tFold 2\n",
      "\tFrom worker 5:\tClasses:  Any[\"setosa\",\"versicolor\",\"virginica\"]\n",
      "\tFrom worker 4:\tMatrix:   3×3 Array{Int64,2}:\n",
      "\tFrom worker 2:\tMatrix:   3×3 Array{Int64,2}:\n",
      "\tFrom worker 4:\t 30   0   0\n",
      "\tFrom worker 2:\t 26   0   0\n",
      "\tFrom worker 4:\t  3  18   2\n",
      "\tFrom worker 2:\t  0  19   1\n",
      "\tFrom worker 4:\t  0   1  21\n",
      "\tFrom worker 2:\t  0   3  26\n",
      "\tFrom worker 4:\tAccuracy: 0.92\n",
      "\tFrom worker 2:\tAccuracy: 0.9466666666666667\n",
      "\tFrom worker 4:\tKappa:    0.8781148429035753\n",
      "\tFrom worker 2:\tKappa:    0.9194847020933977\n",
      "\tFrom worker 4:\t\n",
      "\tFrom worker 4:\tMean Accuracy: 0.9333333333333333\n",
      "\tFrom worker 5:\tMatrix:   3×3 Array{Int64,2}:\n",
      "\tFrom worker 3:\tMatrix:   3×3 Array{Int64,2}:\n",
      "\tFrom worker 3:\t 21   0   0\n",
      "\tFrom worker 3:\t  0  24   2\n",
      "\tFrom worker 3:\t  0   2  26\n",
      "\tFrom worker 3:\tAccuracy: 0.9466666666666667\n",
      "\tFrom worker 3:\tKappa:    0.9194414607948442\n",
      "\tFrom worker 2:\t\n",
      "\tFrom worker 2:\tFold 2\n",
      "\tFrom worker 2:\tClasses:  Any[\"setosa\",\"versicolor\",\"virginica\"]\n",
      "\tFrom worker 5:\t 26   0   0\n",
      "\tFrom worker 5:\t  1  21   0\n",
      "\tFrom worker 5:\t  0   3  24\n",
      "\tFrom worker 5:\tAccuracy: 0.9466666666666667\n",
      "\tFrom worker 5:\tKappa:    0.9199359487590072\n",
      "\tFrom worker 5:\t\n",
      "\tFrom worker 5:\tMean Accuracy: 0.8933333333333333\n",
      "\tFrom worker 3:\t\n",
      "\tFrom worker 3:\tFold 2\n",
      "\tFrom worker 3:\tClasses:  Any[\"setosa\",\"versicolor\",\"virginica\"]\n",
      "\tFrom worker 2:\tMatrix:   3×3 Array{Int64,2}:\n",
      "\tFrom worker 3:\tMatrix:   3×3 Array{Int64,2}:\n",
      "\tFrom worker 4:\t\n",
      "\tFrom worker 4:\tFold 1\n",
      "\tFrom worker 4:\tClasses:  Any[\"setosa\",\"versicolor\",\"virginica\"]\n",
      "\tFrom worker 2:\t 24   0   0\n",
      "\tFrom worker 2:\t  4  22   4\n",
      "\tFrom worker 2:\t  0   0  21\n",
      "\tFrom worker 2:\tAccuracy: 0.8933333333333333\n",
      "\tFrom worker 2:\tKappa:    0.840764331210191\n",
      "\tFrom worker 2:\t\n",
      "\tFrom worker 2:\tMean Accuracy: 0.9199999999999999\n",
      "\tFrom worker 3:\t 29   0   0\n",
      "\tFrom worker 3:\t  3  17   4\n",
      "\tFrom worker 3:\t  0   1  21\n",
      "\tFrom worker 3:\tAccuracy: 0.8933333333333333\n",
      "\tFrom worker 3:\tKappa:    0.8384925975773889\n",
      "\tFrom worker 3:\t\n",
      "\tFrom worker 3:\tMean Accuracy: 0.9199999999999999\n",
      "\tFrom worker 4:\tMatrix:   3×3 Array{Int64,2}:\n",
      "\tFrom worker 5:\t\n",
      "\tFrom worker 5:\tFold 1\n",
      "\tFrom worker 5:\tClasses:  Any[\"setosa\",\"versicolor\",\"virginica\"]\n",
      "\tFrom worker 2:\t\n",
      "\tFrom worker 2:\tFold 1\n",
      "\tFrom worker 2:\tClasses:  Any[\"setosa\",\"versicolor\",\"virginica\"]\n",
      "\tFrom worker 4:\t 25   0   0\n",
      "\tFrom worker 4:\t  0  24   1\n",
      "\tFrom worker 4:\t  0   4  21\n",
      "\tFrom worker 4:\tAccuracy: 0.9333333333333333\n",
      "\tFrom worker 4:\tKappa:    0.9\n",
      "\tFrom worker 5:\tMatrix:   3×3 Array{Int64,2}:\n",
      "\tFrom worker 5:\t 26   0   0\n",
      "\tFrom worker 3:\t\n",
      "\tFrom worker 5:\t  3  18   0\n",
      "\tFrom worker 3:\tFold 1\n",
      "\tFrom worker 5:\t  0   2  26\n",
      "\tFrom worker 3:\tClasses:  Any[\"setosa\",\"versicolor\",\"virginica\"]\n",
      "\tFrom worker 5:\tAccuracy: 0.9333333333333333\n",
      "\tFrom worker 5:\tKappa:    0.8992747784045125\n",
      "\tFrom worker 2:\tMatrix:   3×3 Array{Int64,2}:\n",
      "\tFrom worker 4:\t\n",
      "\tFrom worker 4:\tFold 2\n",
      "\tFrom worker 4:\tClasses:  Any[\"setosa\",\"versicolor\",\"virginica\"]\n",
      "\tFrom worker 2:\t 29   0   0\n",
      "\tFrom worker 2:\t  7  15   0\n",
      "\tFrom worker 2:\t  0   6  18\n",
      "\tFrom worker 2:\tAccuracy: 0.8266666666666667\n",
      "\tFrom worker 2:\tKappa:    0.7355573637103335\n",
      "\tFrom worker 3:\tMatrix:   3×3 Array{Int64,2}:\n",
      "\tFrom worker 5:\t\n",
      "\tFrom worker 5:\tFold 2\n",
      "\tFrom worker 5:\tClasses:  Any[\"setosa\",\"versicolor\",\"virginica\"]\n",
      "\tFrom worker 3:\t 27   0   0\n",
      "\tFrom worker 3:\t  0  24   0\n",
      "\tFrom worker 3:\t  0   4  20\n",
      "\tFrom worker 3:\tAccuracy: 0.9466666666666667\n",
      "\tFrom worker 3:\tKappa:    0.919871794871795\n",
      "\tFrom worker 4:\tMatrix:   3×3 Array{Int64,2}:\n",
      "\tFrom worker 4:\t 25   0   0\n",
      "\tFrom worker 4:\t  7  17   1\n",
      "\tFrom worker 4:\t  0   1  24\n",
      "\tFrom worker 4:\tAccuracy: 0.88\n",
      "\tFrom worker 4:\tKappa:    0.8199999999999998\n",
      "\tFrom worker 4:\t\n",
      "\tFrom worker 4:\tMean Accuracy: 0.9066666666666667\n",
      "\tFrom worker 2:\t\n",
      "\tFrom worker 2:\tFold 2\n",
      "\tFrom worker 2:\tClasses:  Any[\"setosa\",\"versicolor\",\"virginica\"]\n",
      "\tFrom worker 5:\tMatrix:   3×3 Array{Int64,2}:\n",
      "\tFrom worker 3:\t\n",
      "\tFrom worker 3:\tFold 2\n",
      "\tFrom worker 3:\tClasses:  Any[\"setosa\",\"versicolor\",\"virginica\"]\n",
      "\tFrom worker 5:\t 24   0   0\n",
      "\tFrom worker 5:\t  1  27   1\n",
      "\tFrom worker 5:\t  0   4  18\n",
      "\tFrom worker 5:\tAccuracy: 0.92\n",
      "\tFrom worker 5:\tKappa:    0.8786407766990292\n",
      "\tFrom worker 5:\t\n",
      "\tFrom worker 5:\tMean Accuracy: 0.9266666666666667\n",
      "\tFrom worker 3:\tMatrix:   3×3 Array{Int64,2}:\n",
      "\tFrom worker 3:\t 23   0   0\n",
      "\tFrom worker 3:\t  4  20   2\n",
      "\tFrom worker 3:\t  0   3  23\n",
      "\tFrom worker 3:\tAccuracy: 0.88\n",
      "\tFrom worker 3:\tKappa:    0.8202875399361024\n",
      "\tFrom worker 3:\t\n",
      "\tFrom worker 3:\tMean Accuracy: 0.9133333333333333\n",
      "\tFrom worker 2:\tMatrix:   3×3 Array{Int64,2}:\n",
      "\tFrom worker 4:\t\n",
      "\tFrom worker 4:\tFold 1\n",
      "\tFrom worker 4:\tClasses:  Any[\"setosa\",\"versicolor\",\"virginica\"]\n",
      "\tFrom worker 5:\t\n",
      "\tFrom worker 2:\t 21   0   0\n",
      "\tFrom worker 5:\tFold 1\n",
      "\tFrom worker 5:\tClasses:  Any[\"setosa\",\"versicolor\",\"virginica\"]\n",
      "\tFrom worker 2:\t  0  27   1\n",
      "\tFrom worker 2:\t  0   3  23\n",
      "\tFrom worker 2:\tAccuracy: 0.9466666666666667\n",
      "\tFrom worker 2:\tKappa:    0.9193548387096774\n",
      "\tFrom worker 2:\t\n",
      "\tFrom worker 2:\tMean Accuracy: 0.8866666666666667\n",
      "\tFrom worker 4:\tMatrix:   3×3 Array{Int64,2}:\n",
      "\tFrom worker 4:\t 26   0   0\n",
      "\tFrom worker 4:\t  0  21   2\n",
      "\tFrom worker 4:\t  0   3  23\n",
      "\tFrom worker 4:\tAccuracy: 0.9333333333333333\n",
      "\tFrom worker 4:\tKappa:    0.8999199359487591\n",
      "\tFrom worker 5:\tMatrix:   3×3 Array{Int64,2}:\n",
      "\tFrom worker 3:\t\n",
      "\tFrom worker 3:\tFold 1\n",
      "\tFrom worker 3:\tClasses:  Any[\"setosa\",\"versicolor\",\"virginica\"]\n",
      "\tFrom worker 5:\t 27   0   0\n",
      "\tFrom worker 5:\t  0  22   0\n",
      "\tFrom worker 5:\t  0   5  21\n",
      "\tFrom worker 5:\tAccuracy: 0.9333333333333333\n",
      "\tFrom worker 5:\tKappa:    0.9001597444089458\n",
      "\tFrom worker 4:\t\n",
      "\tFrom worker 4:\tFold 2\n",
      "\tFrom worker 4:\tClasses:  Any[\"setosa\",\"versicolor\",\"virginica\"]\n",
      "\tFrom worker 3:\tMatrix:   3×3 Array{Int64,2}:\n",
      "\tFrom worker 4:\tMatrix:   3×3 Array{Int64,2}:\n",
      "\tFrom worker 4:\t 24   0   0\n",
      "\tFrom worker 4:\t  0  26   1\n",
      "\tFrom worker 4:\t  0   0  24\n",
      "\tFrom worker 4:\tAccuracy: 0.9866666666666667\n",
      "\tFrom worker 4:\tKappa:    0.9799839871897519\n",
      "\tFrom worker 4:\t\n",
      "\tFrom worker 4:\tMean Accuracy: 0.96\n",
      "\tFrom worker 3:\t 30   0   0\n",
      "\tFrom worker 2:\t\n",
      "\tFrom worker 3:\t  0  23   0\n",
      "\tFrom worker 2:\tFold 1\n",
      "\tFrom worker 3:\t  0   1  21\n",
      "\tFrom worker 2:\tClasses:  Any[\"setosa\",\"versicolor\",\"virginica\"]\n",
      "\tFrom worker 3:\tAccuracy: 0.9866666666666667\n",
      "\tFrom worker 3:\tKappa:    0.9797898140662896\n",
      "\tFrom worker 5:\t\n",
      "\tFrom worker 5:\tFold 2\n",
      "\tFrom worker 5:\tClasses:  Any[\"setosa\",\"versicolor\",\"virginica\"]\n",
      "\tFrom worker 2:\tMatrix:   3×3 Array{Int64,2}:\n",
      "\tFrom worker 5:\tMatrix:   3×3 Array{Int64,2}:\n",
      "\tFrom worker 5:\t 23   0   0\n",
      "\tFrom worker 5:\t  3  24   1\n",
      "\tFrom worker 5:\t  0   2  22\n",
      "\tFrom worker 5:\tAccuracy: 0.92\n",
      "\tFrom worker 5:\tKappa:    0.8799039231385108\n",
      "\tFrom worker 5:\t\n",
      "\tFrom worker 5:\tMean Accuracy: 0.9266666666666667\n",
      "\tFrom worker 2:\t 27   0   0\n",
      "\tFrom worker 3:\t\n",
      "\tFrom worker 2:\t  0  21   1\n",
      "\tFrom worker 3:\tFold 2\n",
      "\tFrom worker 2:\t  0   4  22\n",
      "\tFrom worker 2:\tAccuracy: 0.9333333333333333\n",
      "\tFrom worker 3:\tClasses:  Any[\"setosa\",\"versicolor\",\"virginica\"]\n",
      "\tFrom worker 2:\tKappa:    0.8999466382070438\n",
      "\tFrom worker 3:\tMatrix:   3×3 Array{Int64,2}:\n",
      "\tFrom worker 3:\t 20   0   0\n",
      "\tFrom worker 3:\t  1  26   0\n",
      "\tFrom worker 3:\t  0   5  23\n",
      "\tFrom worker 3:\tAccuracy: 0.92\n",
      "\tFrom worker 3:\tKappa:    0.8791621911922665\n",
      "\tFrom worker 3:\t\n",
      "\tFrom worker 3:\tMean Accuracy: 0.9533333333333334\n",
      "\tFrom worker 2:\t\n",
      "\tFrom worker 2:\tFold 2\n",
      "\tFrom worker 2:\tClasses:  Any[\"setosa\",\"versicolor\",\"virginica\"]\n",
      "\tFrom worker 2:\tMatrix:   3×3 Array{Int64,2}:\n",
      "\tFrom worker 2:\t 23   0   0\n",
      "\tFrom worker 2:\t  8  20   0\n",
      "Overall Acc:\tFrom worker 2:\t  0   1  23\n",
      "92\tFrom worker 2:\tAccuracy: 0.88\n",
      ".\tFrom worker 2:\tKappa:    0.8210498409331921\n",
      "57777777777778\tFrom worker 2:\t\n",
      " \tFrom worker 2:\tMean Accuracy: 0.9066666666666667\n",
      "23.565671 seconds (75.62 k allocations: 3.482 MB)\n"
     ]
    }
   ],
   "source": [
    "n=30\n",
    "@time begin \n",
    "    s=@parallel (+) for i=1:n\n",
    "        irisAcc()\n",
    "    end\n",
    "    print(\"Overall Acc:\",s/n*100.0)\n",
    "end"
   ]
  }
 ],
 "metadata": {
  "kernelspec": {
   "display_name": "Julia 0.5.0",
   "language": "julia",
   "name": "julia-0.5"
  },
  "language_info": {
   "file_extension": ".jl",
   "mimetype": "application/julia",
   "name": "julia",
   "version": "0.5.1"
  }
 },
 "nbformat": 4,
 "nbformat_minor": 2
}
