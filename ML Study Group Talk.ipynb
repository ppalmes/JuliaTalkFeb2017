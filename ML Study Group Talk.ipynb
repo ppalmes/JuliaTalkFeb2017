{
 "cells": [
  {
   "cell_type": "markdown",
   "metadata": {
    "slideshow": {
     "slide_type": "slide"
    }
   },
   "source": [
    "# Explorations on Direct Feedback Alignment for Deep Learning, MetaModeling/MetaPlotting, and Distributed Computing\n",
    "\n",
    "### March 2, 2017\n",
    "#### Paulito Palmes \n",
    "(IBM Dublin Research Lab)\n"
   ]
  },
  {
   "cell_type": "markdown",
   "metadata": {
    "slideshow": {
     "slide_type": "slide"
    }
   },
   "source": [
    "# Outline \n",
    "### [Github Repo](https://github.com/ppalmes)\n",
    "### [Julia Meetup](https://www.meetup.com/Dublin-Julia-Users-Group)\n",
    "## 1. [Direct Feedback Alignment](./6. DFA.ipynb)\n",
    "## 2. [MetaPlotting](./1. MetaPlotting.ipynb)\n",
    "## 3. [MetaModeling](./2. MetaModeling.ipynb)\n",
    "- ### 3.1 [RCall/PyCall](./RCall-PyCall.ipynb)\n",
    "- ### 3.2 [ScikitLearn](./sklearn.ipynb)\n",
    "\n",
    "## 4. [Parallel/Distributed Computing](./5. Parallel.ipynb)\n",
    "### Optional: [JIT and Multiple Dispatch](./4. Multiple Dispatch.ipynb)"
   ]
  }
 ],
 "metadata": {
  "celltoolbar": "Slideshow",
  "kernelspec": {
   "display_name": "Julia 0.5.0",
   "language": "julia",
   "name": "julia-0.5"
  },
  "language_info": {
   "file_extension": ".jl",
   "mimetype": "application/julia",
   "name": "julia",
   "version": "0.5.0"
  }
 },
 "nbformat": 4,
 "nbformat_minor": 2
}
